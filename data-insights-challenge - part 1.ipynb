{
 "cells": [
  {
   "cell_type": "markdown",
   "metadata": {},
   "source": [
    "## Data Incubator Challenge - Code\n",
    "\n",
    "The following is the code used to perform exploratory data analysis on the data for the data incubator challenge. The project proposal relies on crawling and scraping information from multiple public sources including hospital websites, medical sites, and other public information about conditions\n",
    "and where they are treated."
   ]
  },
  {
   "cell_type": "code",
   "execution_count": 1,
   "metadata": {
    "collapsed": true
   },
   "outputs": [],
   "source": [
    "import pandas as pd\n",
    "import numpy as np\n",
    "from nltk.corpus import stopwords\n",
    "import matplotlib.pyplot as plt\n",
    "import seaborn as sns\n",
    "from collections import Counter\n",
    "from wordcloud import WordCloud\n",
    "from PIL import Image\n",
    "from mpl_toolkits.basemap import Basemap\n",
    "from geopy.geocoders import Nominatim\n",
    "import math\n",
    "%matplotlib inline"
   ]
  },
  {
   "cell_type": "code",
   "execution_count": 2,
   "metadata": {
    "collapsed": false
   },
   "outputs": [
    {
     "name": "stdout",
     "output_type": "stream",
     "text": [
      "[nltk_data] Downloading package stopwords to\n",
      "[nltk_data]     /Users/agamino/nltk_data...\n",
      "[nltk_data]   Package stopwords is already up-to-date!\n"
     ]
    },
    {
     "data": {
      "text/plain": [
       "True"
      ]
     },
     "execution_count": 2,
     "metadata": {},
     "output_type": "execute_result"
    }
   ],
   "source": [
    "import nltk\n",
    "#download stop words. to be used for filtering medical terms\n",
    "nltk.download('stopwords')"
   ]
  },
  {
   "cell_type": "code",
   "execution_count": 3,
   "metadata": {
    "collapsed": true
   },
   "outputs": [],
   "source": [
    "#Stop words to filter \n",
    "stop_words = set(stopwords.words('english'))"
   ]
  },
  {
   "cell_type": "code",
   "execution_count": 4,
   "metadata": {
    "collapsed": true
   },
   "outputs": [],
   "source": [
    "#Source: https://github.com/glutanimate/wordlist-medicalterms-en\n",
    "#Load medical terms, this will be use to filter out everything else\n",
    "medical_terms = set(line.strip() for line in open('medical_terms.txt'))"
   ]
  },
  {
   "cell_type": "code",
   "execution_count": 5,
   "metadata": {
    "collapsed": true
   },
   "outputs": [],
   "source": [
    "#Read file with all hospital addresses and urls\n",
    "#Source: Homeland Infrastructure Foundation - Level Data\n",
    "#https://respond-irma-geoplatform.opendata.arcgis.com/datasets/hospitals/geoservice\n",
    "df_addresses = pd.read_excel(\"hospital_with_addresses.xlsx\")"
   ]
  },
  {
   "cell_type": "code",
   "execution_count": 6,
   "metadata": {
    "collapsed": false
   },
   "outputs": [
    {
     "data": {
      "text/plain": [
       "(7030, 38)"
      ]
     },
     "execution_count": 6,
     "metadata": {},
     "output_type": "execute_result"
    }
   ],
   "source": [
    "#Check size\n",
    "df_addresses.shape"
   ]
  },
  {
   "cell_type": "code",
   "execution_count": 7,
   "metadata": {
    "collapsed": false
   },
   "outputs": [
    {
     "data": {
      "text/plain": [
       "98112"
      ]
     },
     "execution_count": 7,
     "metadata": {},
     "output_type": "execute_result"
    }
   ],
   "source": [
    "#Check how many terms were loaded\n",
    "len(medical_terms)"
   ]
  },
  {
   "cell_type": "code",
   "execution_count": 8,
   "metadata": {
    "collapsed": true
   },
   "outputs": [],
   "source": [
    "#This file contains a list of url paths that were found on crawling\n",
    "#hundreds of hospital sites.\n",
    "#Will be used to extract those urls that contain medical terms\n",
    "df = pd.read_excel(\"HospitalSites_level_name.xlsx\")"
   ]
  },
  {
   "cell_type": "code",
   "execution_count": 9,
   "metadata": {
    "collapsed": false
   },
   "outputs": [
    {
     "data": {
      "text/plain": [
       "(1048575, 4)"
      ]
     },
     "execution_count": 9,
     "metadata": {},
     "output_type": "execute_result"
    }
   ],
   "source": [
    "#Check size\n",
    "df.shape"
   ]
  },
  {
   "cell_type": "code",
   "execution_count": 10,
   "metadata": {
    "collapsed": false
   },
   "outputs": [
    {
     "data": {
      "text/html": [
       "<div>\n",
       "<style scoped>\n",
       "    .dataframe tbody tr th:only-of-type {\n",
       "        vertical-align: middle;\n",
       "    }\n",
       "\n",
       "    .dataframe tbody tr th {\n",
       "        vertical-align: top;\n",
       "    }\n",
       "\n",
       "    .dataframe thead th {\n",
       "        text-align: right;\n",
       "    }\n",
       "</style>\n",
       "<table border=\"1\" class=\"dataframe\">\n",
       "  <thead>\n",
       "    <tr style=\"text-align: right;\">\n",
       "      <th></th>\n",
       "      <th>domain</th>\n",
       "      <th>level</th>\n",
       "      <th>level_count</th>\n",
       "      <th>level_name</th>\n",
       "    </tr>\n",
       "  </thead>\n",
       "  <tbody>\n",
       "    <tr>\n",
       "      <th>0</th>\n",
       "      <td>www.advocatechildrenshospital.com</td>\n",
       "      <td>1</td>\n",
       "      <td>35</td>\n",
       "      <td>documents</td>\n",
       "    </tr>\n",
       "    <tr>\n",
       "      <th>1</th>\n",
       "      <td>www.advocatechildrenshospital.com</td>\n",
       "      <td>1</td>\n",
       "      <td>15</td>\n",
       "      <td>cmc</td>\n",
       "    </tr>\n",
       "    <tr>\n",
       "      <th>2</th>\n",
       "      <td>www.advocatechildrenshospital.com</td>\n",
       "      <td>1</td>\n",
       "      <td>11</td>\n",
       "      <td>luth</td>\n",
       "    </tr>\n",
       "    <tr>\n",
       "      <th>3</th>\n",
       "      <td>www.advocatechildrenshospital.com</td>\n",
       "      <td>1</td>\n",
       "      <td>10</td>\n",
       "      <td>gsam</td>\n",
       "    </tr>\n",
       "    <tr>\n",
       "      <th>4</th>\n",
       "      <td>www.advocatechildrenshospital.com</td>\n",
       "      <td>1</td>\n",
       "      <td>8</td>\n",
       "      <td>ach-care-treatment</td>\n",
       "    </tr>\n",
       "  </tbody>\n",
       "</table>\n",
       "</div>"
      ],
      "text/plain": [
       "                              domain  level  level_count          level_name\n",
       "0  www.advocatechildrenshospital.com      1           35           documents\n",
       "1  www.advocatechildrenshospital.com      1           15                 cmc\n",
       "2  www.advocatechildrenshospital.com      1           11                luth\n",
       "3  www.advocatechildrenshospital.com      1           10                gsam\n",
       "4  www.advocatechildrenshospital.com      1            8  ach-care-treatment"
      ]
     },
     "execution_count": 10,
     "metadata": {},
     "output_type": "execute_result"
    }
   ],
   "source": [
    "#Show first elements\n",
    "df.head()"
   ]
  },
  {
   "cell_type": "code",
   "execution_count": 11,
   "metadata": {
    "collapsed": false
   },
   "outputs": [
    {
     "data": {
      "text/plain": [
       "www.altabatessummit.org                 122252\n",
       "www.gottliebhospital.org                109346\n",
       "www.arnoldpalmerhospital.com             72525\n",
       "www.advocatehealth.com                   66748\n",
       "www.hopkinsmedicine.org                  34970\n",
       "hospital.uillinois.edu                   27359\n",
       "goodsamsanjose.com                       25818\n",
       "www.kumc.edu                             20499\n",
       "www.baptistjax.com                       15298\n",
       "www.kentuckyonehealth.org                15107\n",
       "www.ucirvinehealth.org                   13756\n",
       "www.adventisthealth.org                  13724\n",
       "nyulangone.org                           13695\n",
       "www.chp.edu                              13476\n",
       "www.akronchildrens.org                   12684\n",
       "www.emmc.org                             12038\n",
       "home.llu.edu                             12029\n",
       "www.hoag.org                             11828\n",
       "www.stmarygj.org                         10938\n",
       "www.stjudemedicalcenter.org              10921\n",
       "www.mercy-chicago.org                    10533\n",
       "www.presencehealth.org                    9882\n",
       "www.tgh.org                               9218\n",
       "www.mgmc.org                              9179\n",
       "www.cpmc.org                              9084\n",
       "www.rush.edu                              9016\n",
       "www.emersonhospital.org                   8976\n",
       "www.brighamandwomens.org                  8292\n",
       "www.cityofhope.org                        7951\n",
       "www.mmc.org                               7842\n",
       "                                         ...  \n",
       "www.wahiawageneral.org                      88\n",
       "www.clarkregional.org                       83\n",
       "www.blufftonregional.com                    79\n",
       "www.methodisthospital.org                   76\n",
       "www.oakvalleycares.org                      74\n",
       "www.milfordhospital.org                     72\n",
       "seton.verity.org                            69\n",
       "www.mhchester.com                           68\n",
       "www.clarkehosp.org                          62\n",
       "www.pchd.net                                60\n",
       "www.mdihospital.org                         58\n",
       "www.uihealthcare.org                        56\n",
       "www.memorialhospitalofcarbondale.org        56\n",
       "www.herrinhospital.org                      56\n",
       "www.stjosephmemorialhospital.org            56\n",
       "www.westernplainsmc.com                     55\n",
       "www.southshorehospital.com                  48\n",
       "www.bourbonhospital.com                     47\n",
       "www.adamshospital.org                       43\n",
       "www.mymethodist.net                         43\n",
       "www.synernet.net                            39\n",
       "www.mchonline.org                           37\n",
       "www.methodistchicago.org                    32\n",
       "www.bvchd.com                               10\n",
       "www.galenahealth.org                         7\n",
       "www.mc.uky.edu                               3\n",
       "umrehabortho.org                             3\n",
       "www.tulareregional.org                       1\n",
       "www.brookwoodbaptisthealth.com               1\n",
       "www.nbgh.org                                 1\n",
       "Name: domain, Length: 271, dtype: int64"
      ]
     },
     "execution_count": 11,
     "metadata": {},
     "output_type": "execute_result"
    }
   ],
   "source": [
    "#Show how many links per domain\n",
    "df['domain'].value_counts()"
   ]
  },
  {
   "cell_type": "code",
   "execution_count": 12,
   "metadata": {
    "collapsed": true
   },
   "outputs": [],
   "source": [
    "#function to extract terms from URLs, remove extra information from urls\n",
    "#and keep only medical terms\n",
    "def only_medical_terms(level_name):\n",
    "    #First split them into words\n",
    "    level_name = str(level_name)\n",
    "    results = []\n",
    "    tokens = level_name.split(\"?\")\n",
    "    for t in tokens:\n",
    "        s = t.split(\"-\")\n",
    "        for s1 in s:\n",
    "            e = s1.split(\"&\")\n",
    "            for s2 in e:\n",
    "                r = s2.split(\"=\")\n",
    "                for s3 in r:\n",
    "                    if(s3 in medical_terms and s3 not in stop_words):\n",
    "                        results.append(s3)\n",
    "                        \n",
    "    if(len(results)==0):\n",
    "        results = np.nan\n",
    "    return results"
   ]
  },
  {
   "cell_type": "code",
   "execution_count": 13,
   "metadata": {
    "collapsed": true
   },
   "outputs": [],
   "source": [
    "#Add a column from urls to extract medical terms\n",
    "df['terms'] = df['level_name'].apply(only_medical_terms)"
   ]
  },
  {
   "cell_type": "code",
   "execution_count": 14,
   "metadata": {
    "collapsed": false
   },
   "outputs": [
    {
     "data": {
      "text/plain": [
       "(1048575, 5)"
      ]
     },
     "execution_count": 14,
     "metadata": {},
     "output_type": "execute_result"
    }
   ],
   "source": [
    "#check size\n",
    "df.shape"
   ]
  },
  {
   "cell_type": "code",
   "execution_count": 15,
   "metadata": {
    "collapsed": false
   },
   "outputs": [
    {
     "data": {
      "text/html": [
       "<div>\n",
       "<style scoped>\n",
       "    .dataframe tbody tr th:only-of-type {\n",
       "        vertical-align: middle;\n",
       "    }\n",
       "\n",
       "    .dataframe tbody tr th {\n",
       "        vertical-align: top;\n",
       "    }\n",
       "\n",
       "    .dataframe thead th {\n",
       "        text-align: right;\n",
       "    }\n",
       "</style>\n",
       "<table border=\"1\" class=\"dataframe\">\n",
       "  <thead>\n",
       "    <tr style=\"text-align: right;\">\n",
       "      <th></th>\n",
       "      <th>domain</th>\n",
       "      <th>level</th>\n",
       "      <th>level_count</th>\n",
       "      <th>level_name</th>\n",
       "      <th>terms</th>\n",
       "    </tr>\n",
       "  </thead>\n",
       "  <tbody>\n",
       "    <tr>\n",
       "      <th>0</th>\n",
       "      <td>www.advocatechildrenshospital.com</td>\n",
       "      <td>1</td>\n",
       "      <td>35</td>\n",
       "      <td>documents</td>\n",
       "      <td>NaN</td>\n",
       "    </tr>\n",
       "    <tr>\n",
       "      <th>1</th>\n",
       "      <td>www.advocatechildrenshospital.com</td>\n",
       "      <td>1</td>\n",
       "      <td>15</td>\n",
       "      <td>cmc</td>\n",
       "      <td>NaN</td>\n",
       "    </tr>\n",
       "    <tr>\n",
       "      <th>2</th>\n",
       "      <td>www.advocatechildrenshospital.com</td>\n",
       "      <td>1</td>\n",
       "      <td>11</td>\n",
       "      <td>luth</td>\n",
       "      <td>[luth]</td>\n",
       "    </tr>\n",
       "    <tr>\n",
       "      <th>3</th>\n",
       "      <td>www.advocatechildrenshospital.com</td>\n",
       "      <td>1</td>\n",
       "      <td>10</td>\n",
       "      <td>gsam</td>\n",
       "      <td>NaN</td>\n",
       "    </tr>\n",
       "    <tr>\n",
       "      <th>4</th>\n",
       "      <td>www.advocatechildrenshospital.com</td>\n",
       "      <td>1</td>\n",
       "      <td>8</td>\n",
       "      <td>ach-care-treatment</td>\n",
       "      <td>[care, treatment]</td>\n",
       "    </tr>\n",
       "  </tbody>\n",
       "</table>\n",
       "</div>"
      ],
      "text/plain": [
       "                              domain  level  level_count          level_name  \\\n",
       "0  www.advocatechildrenshospital.com      1           35           documents   \n",
       "1  www.advocatechildrenshospital.com      1           15                 cmc   \n",
       "2  www.advocatechildrenshospital.com      1           11                luth   \n",
       "3  www.advocatechildrenshospital.com      1           10                gsam   \n",
       "4  www.advocatechildrenshospital.com      1            8  ach-care-treatment   \n",
       "\n",
       "               terms  \n",
       "0                NaN  \n",
       "1                NaN  \n",
       "2             [luth]  \n",
       "3                NaN  \n",
       "4  [care, treatment]  "
      ]
     },
     "execution_count": 15,
     "metadata": {},
     "output_type": "execute_result"
    }
   ],
   "source": [
    "#check first few rows\n",
    "df.head()"
   ]
  },
  {
   "cell_type": "code",
   "execution_count": 16,
   "metadata": {
    "collapsed": true
   },
   "outputs": [],
   "source": [
    "#Drop were no terms were found\n",
    "df.dropna(inplace=True)"
   ]
  },
  {
   "cell_type": "code",
   "execution_count": 17,
   "metadata": {
    "collapsed": false
   },
   "outputs": [
    {
     "data": {
      "text/plain": [
       "(470814, 5)"
      ]
     },
     "execution_count": 17,
     "metadata": {},
     "output_type": "execute_result"
    }
   ],
   "source": [
    "#check remaining shape\n",
    "df.shape"
   ]
  },
  {
   "cell_type": "code",
   "execution_count": 18,
   "metadata": {
    "collapsed": true
   },
   "outputs": [],
   "source": [
    "#extact only the domains(urls) and terms\n",
    "df_domain_terms = df[['domain','terms']]"
   ]
  },
  {
   "cell_type": "code",
   "execution_count": null,
   "metadata": {
    "collapsed": false
   },
   "outputs": [
    {
     "data": {
      "text/html": [
       "<div>\n",
       "<style scoped>\n",
       "    .dataframe tbody tr th:only-of-type {\n",
       "        vertical-align: middle;\n",
       "    }\n",
       "\n",
       "    .dataframe tbody tr th {\n",
       "        vertical-align: top;\n",
       "    }\n",
       "\n",
       "    .dataframe thead th {\n",
       "        text-align: right;\n",
       "    }\n",
       "</style>\n",
       "<table border=\"1\" class=\"dataframe\">\n",
       "  <thead>\n",
       "    <tr style=\"text-align: right;\">\n",
       "      <th></th>\n",
       "      <th>domain</th>\n",
       "      <th>terms</th>\n",
       "    </tr>\n",
       "  </thead>\n",
       "  <tbody>\n",
       "    <tr>\n",
       "      <th>2</th>\n",
       "      <td>www.advocatechildrenshospital.com</td>\n",
       "      <td>[luth]</td>\n",
       "    </tr>\n",
       "    <tr>\n",
       "      <th>4</th>\n",
       "      <td>www.advocatechildrenshospital.com</td>\n",
       "      <td>[care, treatment]</td>\n",
       "    </tr>\n",
       "    <tr>\n",
       "      <th>17</th>\n",
       "      <td>www.advocatechildrenshospital.com</td>\n",
       "      <td>[center, fetal, care]</td>\n",
       "    </tr>\n",
       "    <tr>\n",
       "      <th>19</th>\n",
       "      <td>www.advocatechildrenshospital.com</td>\n",
       "      <td>[radiation, oncology]</td>\n",
       "    </tr>\n",
       "    <tr>\n",
       "      <th>22</th>\n",
       "      <td>www.advocatechildrenshospital.com</td>\n",
       "      <td>[form]</td>\n",
       "    </tr>\n",
       "  </tbody>\n",
       "</table>\n",
       "</div>"
      ],
      "text/plain": [
       "                               domain                  terms\n",
       "2   www.advocatechildrenshospital.com                 [luth]\n",
       "4   www.advocatechildrenshospital.com      [care, treatment]\n",
       "17  www.advocatechildrenshospital.com  [center, fetal, care]\n",
       "19  www.advocatechildrenshospital.com  [radiation, oncology]\n",
       "22  www.advocatechildrenshospital.com                 [form]"
      ]
     },
     "execution_count": 19,
     "metadata": {},
     "output_type": "execute_result"
    }
   ],
   "source": [
    "#check first few terms\n",
    "df_domain_terms.head()"
   ]
  },
  {
   "cell_type": "code",
   "execution_count": null,
   "metadata": {
    "collapsed": true
   },
   "outputs": [],
   "source": [
    "#group by domain and concatenate terms\n",
    "df_grouped_by_domain = df_domain_terms.groupby('domain').apply(lambda x: x.sum())"
   ]
  },
  {
   "cell_type": "code",
   "execution_count": null,
   "metadata": {
    "collapsed": true
   },
   "outputs": [],
   "source": [
    "#rename index from domain to url\n",
    "#remove extra 'domain' column\n",
    "df_grouped_by_domain.index.names = ['url']\n",
    "df.drop('domain', axis=1, inplace=True)"
   ]
  },
  {
   "cell_type": "code",
   "execution_count": null,
   "metadata": {
    "collapsed": true
   },
   "outputs": [],
   "source": [
    "#reset index\n",
    "df_grouped_by_domain.reset_index(drop=False, inplace=True)"
   ]
  },
  {
   "cell_type": "code",
   "execution_count": null,
   "metadata": {
    "collapsed": true
   },
   "outputs": [],
   "source": [
    "#removed extra domain\n",
    "df_grouped_by_domain.drop('domain', axis=1, inplace=True)"
   ]
  },
  {
   "cell_type": "code",
   "execution_count": null,
   "metadata": {
    "collapsed": false
   },
   "outputs": [],
   "source": [
    "#show first rows\n",
    "df_grouped_by_domain.head()"
   ]
  },
  {
   "cell_type": "code",
   "execution_count": null,
   "metadata": {
    "collapsed": true
   },
   "outputs": [],
   "source": [
    "#Calculatd number of terms\n",
    "df_grouped_by_domain['number_of_terms'] = df_grouped_by_domain.terms.apply(lambda x: len(x))"
   ]
  },
  {
   "cell_type": "code",
   "execution_count": null,
   "metadata": {
    "collapsed": false
   },
   "outputs": [],
   "source": [
    "df_grouped_by_domain.head()"
   ]
  },
  {
   "cell_type": "code",
   "execution_count": null,
   "metadata": {
    "collapsed": true
   },
   "outputs": [],
   "source": [
    "#Some are repeated, remove repeated terms\n",
    "df_grouped_by_domain['unique_terms'] = df_grouped_by_domain.terms.apply(lambda x: set((x)))"
   ]
  },
  {
   "cell_type": "code",
   "execution_count": null,
   "metadata": {
    "collapsed": false
   },
   "outputs": [],
   "source": [
    "df_grouped_by_domain.head()"
   ]
  },
  {
   "cell_type": "code",
   "execution_count": null,
   "metadata": {
    "collapsed": true
   },
   "outputs": [],
   "source": [
    "#Add counter for number of unique terms\n",
    "df_grouped_by_domain['number_of_unique'] = df_grouped_by_domain.unique_terms.apply(lambda x: len(x))"
   ]
  },
  {
   "cell_type": "code",
   "execution_count": null,
   "metadata": {
    "collapsed": false
   },
   "outputs": [],
   "source": [
    "df_grouped_by_domain.head()"
   ]
  },
  {
   "cell_type": "code",
   "execution_count": null,
   "metadata": {
    "collapsed": true
   },
   "outputs": [],
   "source": [
    "#At this point we have url, and terms ready to be merge\n",
    "df_sites_terms = df_grouped_by_domain[['url','unique_terms','number_of_unique']]\n",
    "df_sites_terms.columns = ['url', 'terms','number_of_terms']"
   ]
  },
  {
   "cell_type": "code",
   "execution_count": null,
   "metadata": {
    "collapsed": false
   },
   "outputs": [],
   "source": [
    "df_sites_terms.head()"
   ]
  },
  {
   "cell_type": "code",
   "execution_count": null,
   "metadata": {
    "collapsed": true
   },
   "outputs": [],
   "source": [
    "#extract only most important columns from addresses dataframe\n",
    "df_addresses_cleaned = df_addresses[['url', 'NAME', 'ADDRESS', 'CITY','STATE', 'ZIP', 'POPULATION',\n",
    "       'COUNTY', 'COUNTYFIPS', 'LATITUDE', 'LONGITUDE','NAICS_CODE', 'NAICS_DESC', 'SOURCE','VAL_DATE', 'WEBSITE', 'STATE_ID', 'ST_FIPS', 'OWNER',\n",
    "       'BEDS']]"
   ]
  },
  {
   "cell_type": "code",
   "execution_count": null,
   "metadata": {
    "collapsed": false
   },
   "outputs": [],
   "source": [
    "df_addresses_cleaned.shape"
   ]
  },
  {
   "cell_type": "code",
   "execution_count": null,
   "metadata": {
    "collapsed": false
   },
   "outputs": [],
   "source": [
    "#drop duplicate urls (some hospitals have same URL when they have different location)\n",
    "df_addresses_cleaned.drop_duplicates(['url'], keep='first', inplace=True)"
   ]
  },
  {
   "cell_type": "code",
   "execution_count": null,
   "metadata": {
    "collapsed": false
   },
   "outputs": [],
   "source": [
    "df_addresses_cleaned.shape"
   ]
  },
  {
   "cell_type": "code",
   "execution_count": null,
   "metadata": {
    "collapsed": false
   },
   "outputs": [],
   "source": [
    "df_addresses_cleaned.head()"
   ]
  },
  {
   "cell_type": "code",
   "execution_count": null,
   "metadata": {
    "collapsed": true
   },
   "outputs": [],
   "source": [
    "#Create one file merging terms and hospital information\n",
    "#Merge terms and addresses\n",
    "df_merged = pd.merge(df_sites_terms, df_addresses_cleaned, on=\"url\")"
   ]
  },
  {
   "cell_type": "code",
   "execution_count": null,
   "metadata": {
    "collapsed": false
   },
   "outputs": [],
   "source": [
    "df_merged.head(10)"
   ]
  },
  {
   "cell_type": "code",
   "execution_count": null,
   "metadata": {
    "collapsed": true
   },
   "outputs": [],
   "source": [
    "#extract states and terms to do some calculations\n",
    "df_states_terms = df_merged[['STATE','terms','number_of_terms']]"
   ]
  },
  {
   "cell_type": "code",
   "execution_count": null,
   "metadata": {
    "collapsed": false
   },
   "outputs": [],
   "source": [
    "df_states_terms.shape"
   ]
  },
  {
   "cell_type": "code",
   "execution_count": null,
   "metadata": {
    "collapsed": true
   },
   "outputs": [],
   "source": [
    "#Collect terms and group by state\n",
    "state_terms = {}"
   ]
  },
  {
   "cell_type": "code",
   "execution_count": null,
   "metadata": {
    "collapsed": true
   },
   "outputs": [],
   "source": [
    "for index, row in df_states_terms.iterrows():\n",
    "    state = row['STATE']\n",
    "    terms = list(row['terms'])\n",
    "    if(state in state_terms):\n",
    "        state_terms[state].update(terms)\n",
    "    else:\n",
    "        state_terms[state] = Counter(terms)\n",
    "        \n",
    "        "
   ]
  },
  {
   "cell_type": "code",
   "execution_count": null,
   "metadata": {
    "collapsed": false
   },
   "outputs": [],
   "source": [
    "#Show California most frequent terms\n",
    "state_terms['CA'].most_common(20)"
   ]
  },
  {
   "cell_type": "code",
   "execution_count": null,
   "metadata": {
    "collapsed": true
   },
   "outputs": [],
   "source": [
    "#create text based on frequency of top words\n",
    "most_common_words_str = \"\"\n",
    "for word in state_terms['CA'].most_common(100):\n",
    "    most_common_words_str += str(word[0]+\" \")*word[1]"
   ]
  },
  {
   "cell_type": "code",
   "execution_count": null,
   "metadata": {
    "collapsed": false
   },
   "outputs": [],
   "source": [
    "#Draw a wordcloud based on frequent terms for the state of California\n",
    "#Source: http://clipart-library.com/clipart/pcodoqRRi.htm\n",
    "california_outline = np.array(Image.open(\"state_of_california_blue.gif\"))\n",
    "wordcloud = WordCloud(background_color=\"white\",width=1200, height=800,prefer_horizontal=1,mask=california_outline, random_state=42).generate(most_common_words_str)\n",
    "plt.imshow(wordcloud, interpolation='bilinear')\n",
    "plt.axis(\"off\")\n",
    "plt.savefig('california_word_cloud.png')"
   ]
  },
  {
   "cell_type": "code",
   "execution_count": null,
   "metadata": {
    "collapsed": false
   },
   "outputs": [],
   "source": [
    "#Draw a wordcloud based on frequent terms for the state of Florida\n",
    "most_commonfl_words_str = \"\"\n",
    "for word in state_terms['FL'].most_common(100):\n",
    "    most_commonfl_words_str += str(word[0]+\" \")*word[1]\n",
    "\n",
    "florida_outline = np.array(Image.open(\"florida_outline_v2.png\"))\n",
    "wordcloud = WordCloud(background_color=\"white\",width=1200, height=800,prefer_horizontal=1,mask=florida_outline, random_state=42).generate(most_commonfl_words_str)\n",
    "plt.imshow(wordcloud, interpolation='bilinear')\n",
    "plt.axis(\"off\")\n",
    "plt.savefig('florida_word_cloud.png')"
   ]
  },
  {
   "cell_type": "code",
   "execution_count": null,
   "metadata": {
    "collapsed": false
   },
   "outputs": [],
   "source": [
    "#Check how many types of hospitals in dataset\n",
    "df_merged['NAICS_DESC'].value_counts()"
   ]
  },
  {
   "cell_type": "code",
   "execution_count": null,
   "metadata": {
    "collapsed": true
   },
   "outputs": [],
   "source": [
    "# Compute the correlation matrix, to see if there are any interesting ones\n",
    "corr = df_merged.corr()"
   ]
  },
  {
   "cell_type": "code",
   "execution_count": null,
   "metadata": {
    "collapsed": false
   },
   "outputs": [],
   "source": [
    "corr"
   ]
  },
  {
   "cell_type": "code",
   "execution_count": null,
   "metadata": {
    "collapsed": true
   },
   "outputs": [],
   "source": [
    "#Extract state, NAICS, and terms\n",
    "df_state_naics_terms = df_merged[[\"STATE\", \"NAICS_DESC\",\"number_of_terms\"]]"
   ]
  },
  {
   "cell_type": "code",
   "execution_count": null,
   "metadata": {
    "collapsed": false
   },
   "outputs": [],
   "source": [
    "df_state_naics_terms.head()"
   ]
  },
  {
   "cell_type": "code",
   "execution_count": null,
   "metadata": {
    "collapsed": true
   },
   "outputs": [],
   "source": [
    "#group by domain and concatenate terms\n",
    "df_grouped_by_state = df_state_naics_terms.groupby(['STATE','NAICS_DESC']).apply(lambda x: x.sum())"
   ]
  },
  {
   "cell_type": "code",
   "execution_count": null,
   "metadata": {
    "collapsed": true
   },
   "outputs": [],
   "source": [
    "#rename index from domain to url\n",
    "#remove extra 'domain' column\n",
    "df_grouped_by_state.index.names = ['state_key','naics_key']\n",
    "df_grouped_by_state.drop('STATE', axis=1, inplace=True)"
   ]
  },
  {
   "cell_type": "code",
   "execution_count": null,
   "metadata": {
    "collapsed": true
   },
   "outputs": [],
   "source": [
    "df_grouped_by_state.drop('NAICS_DESC', axis=1, inplace=True)"
   ]
  },
  {
   "cell_type": "code",
   "execution_count": null,
   "metadata": {
    "collapsed": false
   },
   "outputs": [],
   "source": [
    "df_grouped_by_state.head()"
   ]
  },
  {
   "cell_type": "code",
   "execution_count": null,
   "metadata": {
    "collapsed": true
   },
   "outputs": [],
   "source": [
    "#reset index\n",
    "df_grouped_by_state.reset_index(drop=False, inplace=True)"
   ]
  },
  {
   "cell_type": "code",
   "execution_count": null,
   "metadata": {
    "collapsed": false
   },
   "outputs": [],
   "source": [
    "df_grouped_by_state.head()"
   ]
  },
  {
   "cell_type": "code",
   "execution_count": null,
   "metadata": {
    "collapsed": true
   },
   "outputs": [],
   "source": [
    "#Plot by state, type of hoslital (NAICS) and number of unique terms\n",
    "sns.set()\n",
    "\n",
    "# Load the pivot needed for heatmap\n",
    "heatmap_data = df_grouped_by_state.pivot(\"state_key\", \"naics_key\",\"number_of_terms\")\n",
    "\n"
   ]
  },
  {
   "cell_type": "code",
   "execution_count": null,
   "metadata": {
    "collapsed": true
   },
   "outputs": [],
   "source": [
    "heatmap_data.fillna(0, inplace=True)\n",
    "# heatmap_data.naics_key = heatmap_data.naics_key.astype(int)"
   ]
  },
  {
   "cell_type": "code",
   "execution_count": null,
   "metadata": {
    "collapsed": false
   },
   "outputs": [],
   "source": [
    "type(heatmap_data)"
   ]
  },
  {
   "cell_type": "code",
   "execution_count": null,
   "metadata": {
    "collapsed": false
   },
   "outputs": [],
   "source": [
    "# Draw a heatmap with the numeric values in each cell\n",
    "f, ax = plt.subplots(figsize=(10, 8))\n",
    "sns.heatmap(heatmap_data, annot=True, fmt=\"f\", linewidths=.5, ax=ax)"
   ]
  },
  {
   "cell_type": "code",
   "execution_count": null,
   "metadata": {
    "collapsed": false
   },
   "outputs": [],
   "source": [
    "df_merged.head()"
   ]
  },
  {
   "cell_type": "code",
   "execution_count": null,
   "metadata": {
    "collapsed": true
   },
   "outputs": [],
   "source": [
    "#Convert set items into str to search with contains\n",
    "df_merged['terms_tx'] = df_merged['terms'].apply(str)"
   ]
  },
  {
   "cell_type": "code",
   "execution_count": null,
   "metadata": {
    "collapsed": true
   },
   "outputs": [],
   "source": [
    "#Extract those hospital where 'cancer' was found\n",
    "df_hospitals_with_term_cancer = df_merged[df_merged['terms_tx'].str.contains('cancer')]"
   ]
  },
  {
   "cell_type": "code",
   "execution_count": null,
   "metadata": {
    "collapsed": false
   },
   "outputs": [],
   "source": [
    "df_hospitals_with_term_cancer.head()"
   ]
  },
  {
   "cell_type": "code",
   "execution_count": null,
   "metadata": {
    "collapsed": false
   },
   "outputs": [],
   "source": [
    "df_hospitals_with_term_cancer[['CITY','LATITUDE','LONGITUDE']]"
   ]
  },
  {
   "cell_type": "code",
   "execution_count": null,
   "metadata": {
    "collapsed": true
   },
   "outputs": [],
   "source": [
    "#Get longitude and latitude of cities which hospital that were\n",
    "#found to have term\n",
    "cities_location = []\n",
    "for index, row in df_hospitals_with_term_cancer.iterrows():\n",
    "    cities_location.append((row['LONGITUDE'], row['LATITUDE'],row['CITY']))"
   ]
  },
  {
   "cell_type": "code",
   "execution_count": null,
   "metadata": {
    "collapsed": true
   },
   "outputs": [],
   "source": [
    "#Create list of hospitals in cities that match\n",
    "#the search record \"Cancer\" \n",
    "#Use this to determine the size of the marker on map\n",
    "cities_counter = Counter()\n",
    "\n",
    "for city in df_hospitals_with_term_cancer['CITY']:\n",
    "    cities_counter.update([city])\n"
   ]
  },
  {
   "cell_type": "code",
   "execution_count": null,
   "metadata": {
    "collapsed": false
   },
   "outputs": [],
   "source": [
    "cities_counter['Chicago']"
   ]
  },
  {
   "cell_type": "code",
   "execution_count": null,
   "metadata": {
    "collapsed": false
   },
   "outputs": [],
   "source": [
    "#Draw map of cities with hospitals where term 'cancer' was found\n",
    "scale = 5\n",
    "\n",
    "map = Basemap(llcrnrlon=-119,llcrnrlat=22,urcrnrlon=-64,urcrnrlat=49,\n",
    "        projection='lcc',lat_1=32,lat_2=45,lon_0=-95)\n",
    "\n",
    "# load the shapefile of the US\n",
    "map.readshapefile('st99_d00', name='states', drawbounds=True)\n",
    "\n",
    "# Get the location of each city and plot it\n",
    "geolocator = Nominatim()\n",
    "\n",
    "count = 1\n",
    "for (longitude,latitude,city) in cities_location:\n",
    "    x, y = map(longitude, latitude)\n",
    "    #Get number of hospitals in that city \n",
    "    count = cities_counter[city]\n",
    "    map.plot(x,y,marker='o',color='Green',markersize=int(math.sqrt(count))*scale)\n",
    "plt.show()\n",
    "plt.savefig('cities_with_cancer_facilities.png')"
   ]
  },
  {
   "cell_type": "code",
   "execution_count": null,
   "metadata": {
    "collapsed": true
   },
   "outputs": [],
   "source": []
  }
 ],
 "metadata": {
  "anaconda-cloud": {},
  "kernelspec": {
   "display_name": "py3",
   "language": "python",
   "name": "py3"
  },
  "language_info": {
   "codemirror_mode": {
    "name": "ipython",
    "version": 3
   },
   "file_extension": ".py",
   "mimetype": "text/x-python",
   "name": "python",
   "nbconvert_exporter": "python",
   "pygments_lexer": "ipython3",
   "version": "3.6.0"
  }
 },
 "nbformat": 4,
 "nbformat_minor": 2
}
