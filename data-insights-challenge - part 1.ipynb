{
 "cells": [
  {
   "cell_type": "markdown",
   "metadata": {},
   "source": [
    "## Data Incubator Challenge - Code\n",
    "\n",
    "The following is the code used to perform exploratory data analysis on the data for the data incubator challenge. The project proposal relies on crawling and scraping information from multiple public sources including hospital websites, medical sites, and other public information about conditions\n",
    "and where they are treated."
   ]
  },
  {
   "cell_type": "code",
   "execution_count": 72,
   "metadata": {
    "collapsed": true
   },
   "outputs": [],
   "source": [
    "import pandas as pd\n",
    "import numpy as np\n",
    "from nltk.corpus import stopwords\n",
    "import matplotlib.pyplot as plt\n",
    "import seaborn as sns\n",
    "from collections import Counter\n",
    "from wordcloud import WordCloud\n",
    "from PIL import Image\n",
    "from mpl_toolkits.basemap import Basemap\n",
    "from geopy.geocoders import Nominatim\n",
    "import math\n",
    "%matplotlib inline"
   ]
  },
  {
   "cell_type": "code",
   "execution_count": 73,
   "metadata": {
    "collapsed": false
   },
   "outputs": [
    {
     "name": "stdout",
     "output_type": "stream",
     "text": [
      "[nltk_data] Downloading package stopwords to\n",
      "[nltk_data]     /Users/agamino/nltk_data...\n",
      "[nltk_data]   Package stopwords is already up-to-date!\n"
     ]
    },
    {
     "data": {
      "text/plain": [
       "True"
      ]
     },
     "execution_count": 73,
     "metadata": {},
     "output_type": "execute_result"
    }
   ],
   "source": [
    "import nltk\n",
    "#download stop words. to be used for filtering medical terms\n",
    "nltk.download('stopwords')"
   ]
  },
  {
   "cell_type": "code",
   "execution_count": 74,
   "metadata": {
    "collapsed": true
   },
   "outputs": [],
   "source": [
    "#Stop words to filter \n",
    "stop_words = set(stopwords.words('english'))"
   ]
  },
  {
   "cell_type": "code",
   "execution_count": 75,
   "metadata": {
    "collapsed": true
   },
   "outputs": [],
   "source": [
    "#Source: https://github.com/glutanimate/wordlist-medicalterms-en\n",
    "#Load medical terms, this will be use to filter out everything else\n",
    "medical_terms = set(line.strip() for line in open('medical_terms.txt'))"
   ]
  },
  {
   "cell_type": "code",
   "execution_count": 76,
   "metadata": {
    "collapsed": true
   },
   "outputs": [],
   "source": [
    "#Read file with all hospital addresses and urls\n",
    "#Source: Homeland Infrastructure Foundation - Level Data\n",
    "#https://respond-irma-geoplatform.opendata.arcgis.com/datasets/hospitals/geoservice\n",
    "df_addresses = pd.read_excel(\"hospital_with_addresses.xlsx\")"
   ]
  },
  {
   "cell_type": "code",
   "execution_count": 77,
   "metadata": {
    "collapsed": false
   },
   "outputs": [
    {
     "data": {
      "text/plain": [
       "(7030, 38)"
      ]
     },
     "execution_count": 77,
     "metadata": {},
     "output_type": "execute_result"
    }
   ],
   "source": [
    "#Check size\n",
    "df_addresses.shape"
   ]
  },
  {
   "cell_type": "code",
   "execution_count": 78,
   "metadata": {
    "collapsed": false
   },
   "outputs": [
    {
     "data": {
      "text/plain": [
       "98112"
      ]
     },
     "execution_count": 78,
     "metadata": {},
     "output_type": "execute_result"
    }
   ],
   "source": [
    "#Check how many terms were loaded\n",
    "len(medical_terms)"
   ]
  },
  {
   "cell_type": "code",
   "execution_count": 79,
   "metadata": {
    "collapsed": true
   },
   "outputs": [],
   "source": [
    "#This file contains a list of url paths that were found on crawling\n",
    "#hundreds of hospital sites.\n",
    "#Will be used to extract those urls that contain medical terms\n",
    "df = pd.read_excel(\"HospitalSites_level_name.xlsx\")"
   ]
  },
  {
   "cell_type": "code",
   "execution_count": 80,
   "metadata": {
    "collapsed": false
   },
   "outputs": [
    {
     "data": {
      "text/plain": [
       "(1048575, 4)"
      ]
     },
     "execution_count": 80,
     "metadata": {},
     "output_type": "execute_result"
    }
   ],
   "source": [
    "#Check size\n",
    "df.shape"
   ]
  },
  {
   "cell_type": "code",
   "execution_count": 81,
   "metadata": {
    "collapsed": false
   },
   "outputs": [
    {
     "data": {
      "text/html": [
       "<div>\n",
       "<style scoped>\n",
       "    .dataframe tbody tr th:only-of-type {\n",
       "        vertical-align: middle;\n",
       "    }\n",
       "\n",
       "    .dataframe tbody tr th {\n",
       "        vertical-align: top;\n",
       "    }\n",
       "\n",
       "    .dataframe thead th {\n",
       "        text-align: right;\n",
       "    }\n",
       "</style>\n",
       "<table border=\"1\" class=\"dataframe\">\n",
       "  <thead>\n",
       "    <tr style=\"text-align: right;\">\n",
       "      <th></th>\n",
       "      <th>domain</th>\n",
       "      <th>level</th>\n",
       "      <th>level_count</th>\n",
       "      <th>level_name</th>\n",
       "    </tr>\n",
       "  </thead>\n",
       "  <tbody>\n",
       "    <tr>\n",
       "      <th>0</th>\n",
       "      <td>www.advocatechildrenshospital.com</td>\n",
       "      <td>1</td>\n",
       "      <td>35</td>\n",
       "      <td>documents</td>\n",
       "    </tr>\n",
       "    <tr>\n",
       "      <th>1</th>\n",
       "      <td>www.advocatechildrenshospital.com</td>\n",
       "      <td>1</td>\n",
       "      <td>15</td>\n",
       "      <td>cmc</td>\n",
       "    </tr>\n",
       "    <tr>\n",
       "      <th>2</th>\n",
       "      <td>www.advocatechildrenshospital.com</td>\n",
       "      <td>1</td>\n",
       "      <td>11</td>\n",
       "      <td>luth</td>\n",
       "    </tr>\n",
       "    <tr>\n",
       "      <th>3</th>\n",
       "      <td>www.advocatechildrenshospital.com</td>\n",
       "      <td>1</td>\n",
       "      <td>10</td>\n",
       "      <td>gsam</td>\n",
       "    </tr>\n",
       "    <tr>\n",
       "      <th>4</th>\n",
       "      <td>www.advocatechildrenshospital.com</td>\n",
       "      <td>1</td>\n",
       "      <td>8</td>\n",
       "      <td>ach-care-treatment</td>\n",
       "    </tr>\n",
       "  </tbody>\n",
       "</table>\n",
       "</div>"
      ],
      "text/plain": [
       "                              domain  level  level_count          level_name\n",
       "0  www.advocatechildrenshospital.com      1           35           documents\n",
       "1  www.advocatechildrenshospital.com      1           15                 cmc\n",
       "2  www.advocatechildrenshospital.com      1           11                luth\n",
       "3  www.advocatechildrenshospital.com      1           10                gsam\n",
       "4  www.advocatechildrenshospital.com      1            8  ach-care-treatment"
      ]
     },
     "execution_count": 81,
     "metadata": {},
     "output_type": "execute_result"
    }
   ],
   "source": [
    "#Show first elements\n",
    "df.head()"
   ]
  },
  {
   "cell_type": "code",
   "execution_count": 82,
   "metadata": {
    "collapsed": false
   },
   "outputs": [
    {
     "data": {
      "text/plain": [
       "www.altabatessummit.org                 122252\n",
       "www.gottliebhospital.org                109346\n",
       "www.arnoldpalmerhospital.com             72525\n",
       "www.advocatehealth.com                   66748\n",
       "www.hopkinsmedicine.org                  34970\n",
       "hospital.uillinois.edu                   27359\n",
       "goodsamsanjose.com                       25818\n",
       "www.kumc.edu                             20499\n",
       "www.baptistjax.com                       15298\n",
       "www.kentuckyonehealth.org                15107\n",
       "www.ucirvinehealth.org                   13756\n",
       "www.adventisthealth.org                  13724\n",
       "nyulangone.org                           13695\n",
       "www.chp.edu                              13476\n",
       "www.akronchildrens.org                   12684\n",
       "www.emmc.org                             12038\n",
       "home.llu.edu                             12029\n",
       "www.hoag.org                             11828\n",
       "www.stmarygj.org                         10938\n",
       "www.stjudemedicalcenter.org              10921\n",
       "www.mercy-chicago.org                    10533\n",
       "www.presencehealth.org                    9882\n",
       "www.tgh.org                               9218\n",
       "www.mgmc.org                              9179\n",
       "www.cpmc.org                              9084\n",
       "www.rush.edu                              9016\n",
       "www.emersonhospital.org                   8976\n",
       "www.brighamandwomens.org                  8292\n",
       "www.cityofhope.org                        7951\n",
       "www.mmc.org                               7842\n",
       "                                         ...  \n",
       "www.wahiawageneral.org                      88\n",
       "www.clarkregional.org                       83\n",
       "www.blufftonregional.com                    79\n",
       "www.methodisthospital.org                   76\n",
       "www.oakvalleycares.org                      74\n",
       "www.milfordhospital.org                     72\n",
       "seton.verity.org                            69\n",
       "www.mhchester.com                           68\n",
       "www.clarkehosp.org                          62\n",
       "www.pchd.net                                60\n",
       "www.mdihospital.org                         58\n",
       "www.stjosephmemorialhospital.org            56\n",
       "www.memorialhospitalofcarbondale.org        56\n",
       "www.herrinhospital.org                      56\n",
       "www.uihealthcare.org                        56\n",
       "www.westernplainsmc.com                     55\n",
       "www.southshorehospital.com                  48\n",
       "www.bourbonhospital.com                     47\n",
       "www.adamshospital.org                       43\n",
       "www.mymethodist.net                         43\n",
       "www.synernet.net                            39\n",
       "www.mchonline.org                           37\n",
       "www.methodistchicago.org                    32\n",
       "www.bvchd.com                               10\n",
       "www.galenahealth.org                         7\n",
       "www.mc.uky.edu                               3\n",
       "umrehabortho.org                             3\n",
       "www.nbgh.org                                 1\n",
       "www.tulareregional.org                       1\n",
       "www.brookwoodbaptisthealth.com               1\n",
       "Name: domain, Length: 271, dtype: int64"
      ]
     },
     "execution_count": 82,
     "metadata": {},
     "output_type": "execute_result"
    }
   ],
   "source": [
    "#Show how many links per domain\n",
    "df['domain'].value_counts()"
   ]
  },
  {
   "cell_type": "code",
   "execution_count": 83,
   "metadata": {
    "collapsed": true
   },
   "outputs": [],
   "source": [
    "#function to extract terms from URLs, remove extra information from urls\n",
    "#and keep only medical terms\n",
    "def only_medical_terms(level_name):\n",
    "    #First split them into words\n",
    "    level_name = str(level_name)\n",
    "    results = []\n",
    "    tokens = level_name.split(\"?\")\n",
    "    for t in tokens:\n",
    "        s = t.split(\"-\")\n",
    "        for s1 in s:\n",
    "            e = s1.split(\"&\")\n",
    "            for s2 in e:\n",
    "                r = s2.split(\"=\")\n",
    "                for s3 in r:\n",
    "                    if(s3 in medical_terms and s3 not in stop_words):\n",
    "                        results.append(s3)\n",
    "                        \n",
    "    if(len(results)==0):\n",
    "        results = np.nan\n",
    "    return results"
   ]
  },
  {
   "cell_type": "code",
   "execution_count": 84,
   "metadata": {
    "collapsed": true
   },
   "outputs": [],
   "source": [
    "#Add a column from urls to extract medical terms\n",
    "df['terms'] = df['level_name'].apply(only_medical_terms)"
   ]
  },
  {
   "cell_type": "code",
   "execution_count": 85,
   "metadata": {
    "collapsed": false
   },
   "outputs": [
    {
     "data": {
      "text/plain": [
       "(1048575, 5)"
      ]
     },
     "execution_count": 85,
     "metadata": {},
     "output_type": "execute_result"
    }
   ],
   "source": [
    "#check size\n",
    "df.shape"
   ]
  },
  {
   "cell_type": "code",
   "execution_count": 86,
   "metadata": {
    "collapsed": false
   },
   "outputs": [
    {
     "data": {
      "text/html": [
       "<div>\n",
       "<style scoped>\n",
       "    .dataframe tbody tr th:only-of-type {\n",
       "        vertical-align: middle;\n",
       "    }\n",
       "\n",
       "    .dataframe tbody tr th {\n",
       "        vertical-align: top;\n",
       "    }\n",
       "\n",
       "    .dataframe thead th {\n",
       "        text-align: right;\n",
       "    }\n",
       "</style>\n",
       "<table border=\"1\" class=\"dataframe\">\n",
       "  <thead>\n",
       "    <tr style=\"text-align: right;\">\n",
       "      <th></th>\n",
       "      <th>domain</th>\n",
       "      <th>level</th>\n",
       "      <th>level_count</th>\n",
       "      <th>level_name</th>\n",
       "      <th>terms</th>\n",
       "    </tr>\n",
       "  </thead>\n",
       "  <tbody>\n",
       "    <tr>\n",
       "      <th>0</th>\n",
       "      <td>www.advocatechildrenshospital.com</td>\n",
       "      <td>1</td>\n",
       "      <td>35</td>\n",
       "      <td>documents</td>\n",
       "      <td>NaN</td>\n",
       "    </tr>\n",
       "    <tr>\n",
       "      <th>1</th>\n",
       "      <td>www.advocatechildrenshospital.com</td>\n",
       "      <td>1</td>\n",
       "      <td>15</td>\n",
       "      <td>cmc</td>\n",
       "      <td>NaN</td>\n",
       "    </tr>\n",
       "    <tr>\n",
       "      <th>2</th>\n",
       "      <td>www.advocatechildrenshospital.com</td>\n",
       "      <td>1</td>\n",
       "      <td>11</td>\n",
       "      <td>luth</td>\n",
       "      <td>[luth]</td>\n",
       "    </tr>\n",
       "    <tr>\n",
       "      <th>3</th>\n",
       "      <td>www.advocatechildrenshospital.com</td>\n",
       "      <td>1</td>\n",
       "      <td>10</td>\n",
       "      <td>gsam</td>\n",
       "      <td>NaN</td>\n",
       "    </tr>\n",
       "    <tr>\n",
       "      <th>4</th>\n",
       "      <td>www.advocatechildrenshospital.com</td>\n",
       "      <td>1</td>\n",
       "      <td>8</td>\n",
       "      <td>ach-care-treatment</td>\n",
       "      <td>[care, treatment]</td>\n",
       "    </tr>\n",
       "  </tbody>\n",
       "</table>\n",
       "</div>"
      ],
      "text/plain": [
       "                              domain  level  level_count          level_name  \\\n",
       "0  www.advocatechildrenshospital.com      1           35           documents   \n",
       "1  www.advocatechildrenshospital.com      1           15                 cmc   \n",
       "2  www.advocatechildrenshospital.com      1           11                luth   \n",
       "3  www.advocatechildrenshospital.com      1           10                gsam   \n",
       "4  www.advocatechildrenshospital.com      1            8  ach-care-treatment   \n",
       "\n",
       "               terms  \n",
       "0                NaN  \n",
       "1                NaN  \n",
       "2             [luth]  \n",
       "3                NaN  \n",
       "4  [care, treatment]  "
      ]
     },
     "execution_count": 86,
     "metadata": {},
     "output_type": "execute_result"
    }
   ],
   "source": [
    "#check first few rows\n",
    "df.head()"
   ]
  },
  {
   "cell_type": "code",
   "execution_count": 87,
   "metadata": {
    "collapsed": true
   },
   "outputs": [],
   "source": [
    "#Drop were no terms were found\n",
    "df.dropna(inplace=True)"
   ]
  },
  {
   "cell_type": "code",
   "execution_count": 88,
   "metadata": {
    "collapsed": false
   },
   "outputs": [
    {
     "data": {
      "text/plain": [
       "(470814, 5)"
      ]
     },
     "execution_count": 88,
     "metadata": {},
     "output_type": "execute_result"
    }
   ],
   "source": [
    "#check remaining shape\n",
    "df.shape"
   ]
  },
  {
   "cell_type": "code",
   "execution_count": 89,
   "metadata": {
    "collapsed": true
   },
   "outputs": [],
   "source": [
    "#extact only the domains(urls) and terms\n",
    "df_domain_terms = df[['domain','terms']]"
   ]
  },
  {
   "cell_type": "code",
   "execution_count": 90,
   "metadata": {
    "collapsed": false
   },
   "outputs": [
    {
     "data": {
      "text/html": [
       "<div>\n",
       "<style scoped>\n",
       "    .dataframe tbody tr th:only-of-type {\n",
       "        vertical-align: middle;\n",
       "    }\n",
       "\n",
       "    .dataframe tbody tr th {\n",
       "        vertical-align: top;\n",
       "    }\n",
       "\n",
       "    .dataframe thead th {\n",
       "        text-align: right;\n",
       "    }\n",
       "</style>\n",
       "<table border=\"1\" class=\"dataframe\">\n",
       "  <thead>\n",
       "    <tr style=\"text-align: right;\">\n",
       "      <th></th>\n",
       "      <th>domain</th>\n",
       "      <th>terms</th>\n",
       "    </tr>\n",
       "  </thead>\n",
       "  <tbody>\n",
       "    <tr>\n",
       "      <th>2</th>\n",
       "      <td>www.advocatechildrenshospital.com</td>\n",
       "      <td>[luth]</td>\n",
       "    </tr>\n",
       "    <tr>\n",
       "      <th>4</th>\n",
       "      <td>www.advocatechildrenshospital.com</td>\n",
       "      <td>[care, treatment]</td>\n",
       "    </tr>\n",
       "    <tr>\n",
       "      <th>17</th>\n",
       "      <td>www.advocatechildrenshospital.com</td>\n",
       "      <td>[center, fetal, care]</td>\n",
       "    </tr>\n",
       "    <tr>\n",
       "      <th>19</th>\n",
       "      <td>www.advocatechildrenshospital.com</td>\n",
       "      <td>[radiation, oncology]</td>\n",
       "    </tr>\n",
       "    <tr>\n",
       "      <th>22</th>\n",
       "      <td>www.advocatechildrenshospital.com</td>\n",
       "      <td>[form]</td>\n",
       "    </tr>\n",
       "  </tbody>\n",
       "</table>\n",
       "</div>"
      ],
      "text/plain": [
       "                               domain                  terms\n",
       "2   www.advocatechildrenshospital.com                 [luth]\n",
       "4   www.advocatechildrenshospital.com      [care, treatment]\n",
       "17  www.advocatechildrenshospital.com  [center, fetal, care]\n",
       "19  www.advocatechildrenshospital.com  [radiation, oncology]\n",
       "22  www.advocatechildrenshospital.com                 [form]"
      ]
     },
     "execution_count": 90,
     "metadata": {},
     "output_type": "execute_result"
    }
   ],
   "source": [
    "#check first few terms\n",
    "df_domain_terms.head()"
   ]
  },
  {
   "cell_type": "code",
   "execution_count": 91,
   "metadata": {
    "collapsed": true
   },
   "outputs": [],
   "source": [
    "#group by domain and concatenate terms\n",
    "df_grouped_by_domain = df_domain_terms.groupby('domain').apply(lambda x: x.sum())"
   ]
  },
  {
   "cell_type": "code",
   "execution_count": 92,
   "metadata": {
    "collapsed": true
   },
   "outputs": [],
   "source": [
    "#rename index from domain to url\n",
    "#remove extra 'domain' column\n",
    "df_grouped_by_domain.index.names = ['url']\n",
    "df.drop('domain', axis=1, inplace=True)"
   ]
  },
  {
   "cell_type": "code",
   "execution_count": 93,
   "metadata": {
    "collapsed": true
   },
   "outputs": [],
   "source": [
    "#reset index\n",
    "df_grouped_by_domain.reset_index(drop=False, inplace=True)"
   ]
  },
  {
   "cell_type": "code",
   "execution_count": 94,
   "metadata": {
    "collapsed": true
   },
   "outputs": [],
   "source": [
    "#removed extra domain\n",
    "df_grouped_by_domain.drop('domain', axis=1, inplace=True)"
   ]
  },
  {
   "cell_type": "code",
   "execution_count": 95,
   "metadata": {
    "collapsed": false
   },
   "outputs": [
    {
     "data": {
      "text/html": [
       "<div>\n",
       "<style scoped>\n",
       "    .dataframe tbody tr th:only-of-type {\n",
       "        vertical-align: middle;\n",
       "    }\n",
       "\n",
       "    .dataframe tbody tr th {\n",
       "        vertical-align: top;\n",
       "    }\n",
       "\n",
       "    .dataframe thead th {\n",
       "        text-align: right;\n",
       "    }\n",
       "</style>\n",
       "<table border=\"1\" class=\"dataframe\">\n",
       "  <thead>\n",
       "    <tr style=\"text-align: right;\">\n",
       "      <th></th>\n",
       "      <th>url</th>\n",
       "      <th>terms</th>\n",
       "    </tr>\n",
       "  </thead>\n",
       "  <tbody>\n",
       "    <tr>\n",
       "      <th>0</th>\n",
       "      <td>goodsamsanjose.com</td>\n",
       "      <td>[site, legal, profile, general, surgery, rehab...</td>\n",
       "    </tr>\n",
       "    <tr>\n",
       "      <th>1</th>\n",
       "      <td>home.llu.edu</td>\n",
       "      <td>[explore, lomalinda, bioethics, make, site, st...</td>\n",
       "    </tr>\n",
       "    <tr>\n",
       "      <th>2</th>\n",
       "      <td>hospital.uillinois.edu</td>\n",
       "      <td>[doctor, primary, specialty, care, doctor, doc...</td>\n",
       "    </tr>\n",
       "    <tr>\n",
       "      <th>3</th>\n",
       "      <td>mercymiami.com</td>\n",
       "      <td>[legal, get, america, profile, school, practic...</td>\n",
       "    </tr>\n",
       "    <tr>\n",
       "      <th>4</th>\n",
       "      <td>mylrh.org</td>\n",
       "      <td>[component, cancer, center, rehab, recognition...</td>\n",
       "    </tr>\n",
       "  </tbody>\n",
       "</table>\n",
       "</div>"
      ],
      "text/plain": [
       "                      url                                              terms\n",
       "0      goodsamsanjose.com  [site, legal, profile, general, surgery, rehab...\n",
       "1            home.llu.edu  [explore, lomalinda, bioethics, make, site, st...\n",
       "2  hospital.uillinois.edu  [doctor, primary, specialty, care, doctor, doc...\n",
       "3          mercymiami.com  [legal, get, america, profile, school, practic...\n",
       "4               mylrh.org  [component, cancer, center, rehab, recognition..."
      ]
     },
     "execution_count": 95,
     "metadata": {},
     "output_type": "execute_result"
    }
   ],
   "source": [
    "#show first rows\n",
    "df_grouped_by_domain.head()"
   ]
  },
  {
   "cell_type": "code",
   "execution_count": 96,
   "metadata": {
    "collapsed": true
   },
   "outputs": [],
   "source": [
    "#Calculatd number of terms\n",
    "df_grouped_by_domain['number_of_terms'] = df_grouped_by_domain.terms.apply(lambda x: len(x))"
   ]
  },
  {
   "cell_type": "code",
   "execution_count": 97,
   "metadata": {
    "collapsed": false
   },
   "outputs": [
    {
     "data": {
      "text/html": [
       "<div>\n",
       "<style scoped>\n",
       "    .dataframe tbody tr th:only-of-type {\n",
       "        vertical-align: middle;\n",
       "    }\n",
       "\n",
       "    .dataframe tbody tr th {\n",
       "        vertical-align: top;\n",
       "    }\n",
       "\n",
       "    .dataframe thead th {\n",
       "        text-align: right;\n",
       "    }\n",
       "</style>\n",
       "<table border=\"1\" class=\"dataframe\">\n",
       "  <thead>\n",
       "    <tr style=\"text-align: right;\">\n",
       "      <th></th>\n",
       "      <th>url</th>\n",
       "      <th>terms</th>\n",
       "      <th>number_of_terms</th>\n",
       "    </tr>\n",
       "  </thead>\n",
       "  <tbody>\n",
       "    <tr>\n",
       "      <th>0</th>\n",
       "      <td>goodsamsanjose.com</td>\n",
       "      <td>[site, legal, profile, general, surgery, rehab...</td>\n",
       "      <td>12012</td>\n",
       "    </tr>\n",
       "    <tr>\n",
       "      <th>1</th>\n",
       "      <td>home.llu.edu</td>\n",
       "      <td>[explore, lomalinda, bioethics, make, site, st...</td>\n",
       "      <td>65</td>\n",
       "    </tr>\n",
       "    <tr>\n",
       "      <th>2</th>\n",
       "      <td>hospital.uillinois.edu</td>\n",
       "      <td>[doctor, primary, specialty, care, doctor, doc...</td>\n",
       "      <td>99172</td>\n",
       "    </tr>\n",
       "    <tr>\n",
       "      <th>3</th>\n",
       "      <td>mercymiami.com</td>\n",
       "      <td>[legal, get, america, profile, school, practic...</td>\n",
       "      <td>752</td>\n",
       "    </tr>\n",
       "    <tr>\n",
       "      <th>4</th>\n",
       "      <td>mylrh.org</td>\n",
       "      <td>[component, cancer, center, rehab, recognition...</td>\n",
       "      <td>1086</td>\n",
       "    </tr>\n",
       "  </tbody>\n",
       "</table>\n",
       "</div>"
      ],
      "text/plain": [
       "                      url                                              terms  \\\n",
       "0      goodsamsanjose.com  [site, legal, profile, general, surgery, rehab...   \n",
       "1            home.llu.edu  [explore, lomalinda, bioethics, make, site, st...   \n",
       "2  hospital.uillinois.edu  [doctor, primary, specialty, care, doctor, doc...   \n",
       "3          mercymiami.com  [legal, get, america, profile, school, practic...   \n",
       "4               mylrh.org  [component, cancer, center, rehab, recognition...   \n",
       "\n",
       "   number_of_terms  \n",
       "0            12012  \n",
       "1               65  \n",
       "2            99172  \n",
       "3              752  \n",
       "4             1086  "
      ]
     },
     "execution_count": 97,
     "metadata": {},
     "output_type": "execute_result"
    }
   ],
   "source": [
    "df_grouped_by_domain.head()"
   ]
  },
  {
   "cell_type": "code",
   "execution_count": 98,
   "metadata": {
    "collapsed": true
   },
   "outputs": [],
   "source": [
    "#Some are repeated, remove repeated terms\n",
    "df_grouped_by_domain['unique_terms'] = df_grouped_by_domain.terms.apply(lambda x: set((x)))"
   ]
  },
  {
   "cell_type": "code",
   "execution_count": 99,
   "metadata": {
    "collapsed": false
   },
   "outputs": [
    {
     "data": {
      "text/html": [
       "<div>\n",
       "<style scoped>\n",
       "    .dataframe tbody tr th:only-of-type {\n",
       "        vertical-align: middle;\n",
       "    }\n",
       "\n",
       "    .dataframe tbody tr th {\n",
       "        vertical-align: top;\n",
       "    }\n",
       "\n",
       "    .dataframe thead th {\n",
       "        text-align: right;\n",
       "    }\n",
       "</style>\n",
       "<table border=\"1\" class=\"dataframe\">\n",
       "  <thead>\n",
       "    <tr style=\"text-align: right;\">\n",
       "      <th></th>\n",
       "      <th>url</th>\n",
       "      <th>terms</th>\n",
       "      <th>number_of_terms</th>\n",
       "      <th>unique_terms</th>\n",
       "    </tr>\n",
       "  </thead>\n",
       "  <tbody>\n",
       "    <tr>\n",
       "      <th>0</th>\n",
       "      <td>goodsamsanjose.com</td>\n",
       "      <td>[site, legal, profile, general, surgery, rehab...</td>\n",
       "      <td>12012</td>\n",
       "      <td>{spring, cerebellar, neurosurgery, temporomand...</td>\n",
       "    </tr>\n",
       "    <tr>\n",
       "      <th>1</th>\n",
       "      <td>home.llu.edu</td>\n",
       "      <td>[explore, lomalinda, bioethics, make, site, st...</td>\n",
       "      <td>65</td>\n",
       "      <td>{code, course, clin, lomalinda, site, withdraw...</td>\n",
       "    </tr>\n",
       "    <tr>\n",
       "      <th>2</th>\n",
       "      <td>hospital.uillinois.edu</td>\n",
       "      <td>[doctor, primary, specialty, care, doctor, doc...</td>\n",
       "      <td>99172</td>\n",
       "      <td>{maternity, symptoms, dental, neurosurgery, no...</td>\n",
       "    </tr>\n",
       "    <tr>\n",
       "      <th>3</th>\n",
       "      <td>mercymiami.com</td>\n",
       "      <td>[legal, get, america, profile, school, practic...</td>\n",
       "      <td>752</td>\n",
       "      <td>{anesthesiology, maternity, Paul, behavioral, ...</td>\n",
       "    </tr>\n",
       "    <tr>\n",
       "      <th>4</th>\n",
       "      <td>mylrh.org</td>\n",
       "      <td>[component, cancer, center, rehab, recognition...</td>\n",
       "      <td>1086</td>\n",
       "      <td>{spring, gender, winter, neurosurgery, non, cr...</td>\n",
       "    </tr>\n",
       "  </tbody>\n",
       "</table>\n",
       "</div>"
      ],
      "text/plain": [
       "                      url                                              terms  \\\n",
       "0      goodsamsanjose.com  [site, legal, profile, general, surgery, rehab...   \n",
       "1            home.llu.edu  [explore, lomalinda, bioethics, make, site, st...   \n",
       "2  hospital.uillinois.edu  [doctor, primary, specialty, care, doctor, doc...   \n",
       "3          mercymiami.com  [legal, get, america, profile, school, practic...   \n",
       "4               mylrh.org  [component, cancer, center, rehab, recognition...   \n",
       "\n",
       "   number_of_terms                                       unique_terms  \n",
       "0            12012  {spring, cerebellar, neurosurgery, temporomand...  \n",
       "1               65  {code, course, clin, lomalinda, site, withdraw...  \n",
       "2            99172  {maternity, symptoms, dental, neurosurgery, no...  \n",
       "3              752  {anesthesiology, maternity, Paul, behavioral, ...  \n",
       "4             1086  {spring, gender, winter, neurosurgery, non, cr...  "
      ]
     },
     "execution_count": 99,
     "metadata": {},
     "output_type": "execute_result"
    }
   ],
   "source": [
    "df_grouped_by_domain.head()"
   ]
  },
  {
   "cell_type": "code",
   "execution_count": 100,
   "metadata": {
    "collapsed": true
   },
   "outputs": [],
   "source": [
    "#Add counter for number of unique terms\n",
    "df_grouped_by_domain['number_of_unique'] = df_grouped_by_domain.unique_terms.apply(lambda x: len(x))"
   ]
  },
  {
   "cell_type": "code",
   "execution_count": 101,
   "metadata": {
    "collapsed": false
   },
   "outputs": [
    {
     "data": {
      "text/html": [
       "<div>\n",
       "<style scoped>\n",
       "    .dataframe tbody tr th:only-of-type {\n",
       "        vertical-align: middle;\n",
       "    }\n",
       "\n",
       "    .dataframe tbody tr th {\n",
       "        vertical-align: top;\n",
       "    }\n",
       "\n",
       "    .dataframe thead th {\n",
       "        text-align: right;\n",
       "    }\n",
       "</style>\n",
       "<table border=\"1\" class=\"dataframe\">\n",
       "  <thead>\n",
       "    <tr style=\"text-align: right;\">\n",
       "      <th></th>\n",
       "      <th>url</th>\n",
       "      <th>terms</th>\n",
       "      <th>number_of_terms</th>\n",
       "      <th>unique_terms</th>\n",
       "      <th>number_of_unique</th>\n",
       "    </tr>\n",
       "  </thead>\n",
       "  <tbody>\n",
       "    <tr>\n",
       "      <th>0</th>\n",
       "      <td>goodsamsanjose.com</td>\n",
       "      <td>[site, legal, profile, general, surgery, rehab...</td>\n",
       "      <td>12012</td>\n",
       "      <td>{spring, cerebellar, neurosurgery, temporomand...</td>\n",
       "      <td>2438</td>\n",
       "    </tr>\n",
       "    <tr>\n",
       "      <th>1</th>\n",
       "      <td>home.llu.edu</td>\n",
       "      <td>[explore, lomalinda, bioethics, make, site, st...</td>\n",
       "      <td>65</td>\n",
       "      <td>{code, course, clin, lomalinda, site, withdraw...</td>\n",
       "      <td>31</td>\n",
       "    </tr>\n",
       "    <tr>\n",
       "      <th>2</th>\n",
       "      <td>hospital.uillinois.edu</td>\n",
       "      <td>[doctor, primary, specialty, care, doctor, doc...</td>\n",
       "      <td>99172</td>\n",
       "      <td>{maternity, symptoms, dental, neurosurgery, no...</td>\n",
       "      <td>532</td>\n",
       "    </tr>\n",
       "    <tr>\n",
       "      <th>3</th>\n",
       "      <td>mercymiami.com</td>\n",
       "      <td>[legal, get, america, profile, school, practic...</td>\n",
       "      <td>752</td>\n",
       "      <td>{anesthesiology, maternity, Paul, behavioral, ...</td>\n",
       "      <td>130</td>\n",
       "    </tr>\n",
       "    <tr>\n",
       "      <th>4</th>\n",
       "      <td>mylrh.org</td>\n",
       "      <td>[component, cancer, center, rehab, recognition...</td>\n",
       "      <td>1086</td>\n",
       "      <td>{spring, gender, winter, neurosurgery, non, cr...</td>\n",
       "      <td>283</td>\n",
       "    </tr>\n",
       "  </tbody>\n",
       "</table>\n",
       "</div>"
      ],
      "text/plain": [
       "                      url                                              terms  \\\n",
       "0      goodsamsanjose.com  [site, legal, profile, general, surgery, rehab...   \n",
       "1            home.llu.edu  [explore, lomalinda, bioethics, make, site, st...   \n",
       "2  hospital.uillinois.edu  [doctor, primary, specialty, care, doctor, doc...   \n",
       "3          mercymiami.com  [legal, get, america, profile, school, practic...   \n",
       "4               mylrh.org  [component, cancer, center, rehab, recognition...   \n",
       "\n",
       "   number_of_terms                                       unique_terms  \\\n",
       "0            12012  {spring, cerebellar, neurosurgery, temporomand...   \n",
       "1               65  {code, course, clin, lomalinda, site, withdraw...   \n",
       "2            99172  {maternity, symptoms, dental, neurosurgery, no...   \n",
       "3              752  {anesthesiology, maternity, Paul, behavioral, ...   \n",
       "4             1086  {spring, gender, winter, neurosurgery, non, cr...   \n",
       "\n",
       "   number_of_unique  \n",
       "0              2438  \n",
       "1                31  \n",
       "2               532  \n",
       "3               130  \n",
       "4               283  "
      ]
     },
     "execution_count": 101,
     "metadata": {},
     "output_type": "execute_result"
    }
   ],
   "source": [
    "df_grouped_by_domain.head()"
   ]
  },
  {
   "cell_type": "code",
   "execution_count": 102,
   "metadata": {
    "collapsed": true
   },
   "outputs": [],
   "source": [
    "#At this point we have url, and terms ready to be merge\n",
    "df_sites_terms = df_grouped_by_domain[['url','unique_terms','number_of_unique']]\n",
    "df_sites_terms.columns = ['url', 'terms','number_of_terms']"
   ]
  },
  {
   "cell_type": "code",
   "execution_count": 103,
   "metadata": {
    "collapsed": false
   },
   "outputs": [
    {
     "data": {
      "text/html": [
       "<div>\n",
       "<style scoped>\n",
       "    .dataframe tbody tr th:only-of-type {\n",
       "        vertical-align: middle;\n",
       "    }\n",
       "\n",
       "    .dataframe tbody tr th {\n",
       "        vertical-align: top;\n",
       "    }\n",
       "\n",
       "    .dataframe thead th {\n",
       "        text-align: right;\n",
       "    }\n",
       "</style>\n",
       "<table border=\"1\" class=\"dataframe\">\n",
       "  <thead>\n",
       "    <tr style=\"text-align: right;\">\n",
       "      <th></th>\n",
       "      <th>url</th>\n",
       "      <th>terms</th>\n",
       "      <th>number_of_terms</th>\n",
       "    </tr>\n",
       "  </thead>\n",
       "  <tbody>\n",
       "    <tr>\n",
       "      <th>0</th>\n",
       "      <td>goodsamsanjose.com</td>\n",
       "      <td>{spring, cerebellar, neurosurgery, temporomand...</td>\n",
       "      <td>2438</td>\n",
       "    </tr>\n",
       "    <tr>\n",
       "      <th>1</th>\n",
       "      <td>home.llu.edu</td>\n",
       "      <td>{code, course, clin, lomalinda, site, withdraw...</td>\n",
       "      <td>31</td>\n",
       "    </tr>\n",
       "    <tr>\n",
       "      <th>2</th>\n",
       "      <td>hospital.uillinois.edu</td>\n",
       "      <td>{maternity, symptoms, dental, neurosurgery, no...</td>\n",
       "      <td>532</td>\n",
       "    </tr>\n",
       "    <tr>\n",
       "      <th>3</th>\n",
       "      <td>mercymiami.com</td>\n",
       "      <td>{anesthesiology, maternity, Paul, behavioral, ...</td>\n",
       "      <td>130</td>\n",
       "    </tr>\n",
       "    <tr>\n",
       "      <th>4</th>\n",
       "      <td>mylrh.org</td>\n",
       "      <td>{spring, gender, winter, neurosurgery, non, cr...</td>\n",
       "      <td>283</td>\n",
       "    </tr>\n",
       "  </tbody>\n",
       "</table>\n",
       "</div>"
      ],
      "text/plain": [
       "                      url                                              terms  \\\n",
       "0      goodsamsanjose.com  {spring, cerebellar, neurosurgery, temporomand...   \n",
       "1            home.llu.edu  {code, course, clin, lomalinda, site, withdraw...   \n",
       "2  hospital.uillinois.edu  {maternity, symptoms, dental, neurosurgery, no...   \n",
       "3          mercymiami.com  {anesthesiology, maternity, Paul, behavioral, ...   \n",
       "4               mylrh.org  {spring, gender, winter, neurosurgery, non, cr...   \n",
       "\n",
       "   number_of_terms  \n",
       "0             2438  \n",
       "1               31  \n",
       "2              532  \n",
       "3              130  \n",
       "4              283  "
      ]
     },
     "execution_count": 103,
     "metadata": {},
     "output_type": "execute_result"
    }
   ],
   "source": [
    "df_sites_terms.head()"
   ]
  },
  {
   "cell_type": "code",
   "execution_count": 104,
   "metadata": {
    "collapsed": true
   },
   "outputs": [],
   "source": [
    "#extract only most important columns from addresses dataframe\n",
    "df_addresses_cleaned = df_addresses[['url', 'NAME', 'ADDRESS', 'CITY','STATE', 'ZIP', 'POPULATION',\n",
    "       'COUNTY', 'COUNTYFIPS', 'LATITUDE', 'LONGITUDE','NAICS_CODE', 'NAICS_DESC', 'SOURCE','VAL_DATE', 'WEBSITE', 'STATE_ID', 'ST_FIPS', 'OWNER',\n",
    "       'BEDS']]"
   ]
  },
  {
   "cell_type": "code",
   "execution_count": 105,
   "metadata": {
    "collapsed": false
   },
   "outputs": [
    {
     "data": {
      "text/plain": [
       "(7030, 20)"
      ]
     },
     "execution_count": 105,
     "metadata": {},
     "output_type": "execute_result"
    }
   ],
   "source": [
    "df_addresses_cleaned.shape"
   ]
  },
  {
   "cell_type": "code",
   "execution_count": 106,
   "metadata": {
    "collapsed": false
   },
   "outputs": [
    {
     "name": "stderr",
     "output_type": "stream",
     "text": [
      "/Users/agamino/anaconda/envs/py3/lib/python3.6/site-packages/ipykernel/__main__.py:2: SettingWithCopyWarning: \n",
      "A value is trying to be set on a copy of a slice from a DataFrame\n",
      "\n",
      "See the caveats in the documentation: http://pandas.pydata.org/pandas-docs/stable/indexing.html#indexing-view-versus-copy\n",
      "  from ipykernel import kernelapp as app\n"
     ]
    }
   ],
   "source": [
    "#drop duplicate urls (some hospitals have same URL when they have different location)\n",
    "df_addresses_cleaned.drop_duplicates(['url'], keep='first', inplace=True)"
   ]
  },
  {
   "cell_type": "code",
   "execution_count": 107,
   "metadata": {
    "collapsed": false
   },
   "outputs": [
    {
     "data": {
      "text/plain": [
       "(4674, 20)"
      ]
     },
     "execution_count": 107,
     "metadata": {},
     "output_type": "execute_result"
    }
   ],
   "source": [
    "df_addresses_cleaned.shape"
   ]
  },
  {
   "cell_type": "code",
   "execution_count": 108,
   "metadata": {
    "collapsed": false
   },
   "outputs": [
    {
     "data": {
      "text/html": [
       "<div>\n",
       "<style scoped>\n",
       "    .dataframe tbody tr th:only-of-type {\n",
       "        vertical-align: middle;\n",
       "    }\n",
       "\n",
       "    .dataframe tbody tr th {\n",
       "        vertical-align: top;\n",
       "    }\n",
       "\n",
       "    .dataframe thead th {\n",
       "        text-align: right;\n",
       "    }\n",
       "</style>\n",
       "<table border=\"1\" class=\"dataframe\">\n",
       "  <thead>\n",
       "    <tr style=\"text-align: right;\">\n",
       "      <th></th>\n",
       "      <th>url</th>\n",
       "      <th>NAME</th>\n",
       "      <th>ADDRESS</th>\n",
       "      <th>CITY</th>\n",
       "      <th>STATE</th>\n",
       "      <th>ZIP</th>\n",
       "      <th>POPULATION</th>\n",
       "      <th>COUNTY</th>\n",
       "      <th>COUNTYFIPS</th>\n",
       "      <th>LATITUDE</th>\n",
       "      <th>LONGITUDE</th>\n",
       "      <th>NAICS_CODE</th>\n",
       "      <th>NAICS_DESC</th>\n",
       "      <th>SOURCE</th>\n",
       "      <th>VAL_DATE</th>\n",
       "      <th>WEBSITE</th>\n",
       "      <th>STATE_ID</th>\n",
       "      <th>ST_FIPS</th>\n",
       "      <th>OWNER</th>\n",
       "      <th>BEDS</th>\n",
       "    </tr>\n",
       "  </thead>\n",
       "  <tbody>\n",
       "    <tr>\n",
       "      <th>0</th>\n",
       "      <td>www.chw.org</td>\n",
       "      <td>CHILDRENS HSPTL OF WISCONSIN FOX VALLEY</td>\n",
       "      <td>130 SECOND ST</td>\n",
       "      <td>Neenah</td>\n",
       "      <td>WI</td>\n",
       "      <td>54956</td>\n",
       "      <td>42</td>\n",
       "      <td>Winnebago</td>\n",
       "      <td>55139</td>\n",
       "      <td>44.1871</td>\n",
       "      <td>-88.4544</td>\n",
       "      <td>622210</td>\n",
       "      <td>Children'S Hospitals, General</td>\n",
       "      <td>http://www.dhs.wisconsin.gov/bqaconsumer/healt...</td>\n",
       "      <td>2014-03-12T00:00:00.000Z</td>\n",
       "      <td>http://www.chw.org</td>\n",
       "      <td>1005</td>\n",
       "      <td>55</td>\n",
       "      <td>Non-profit</td>\n",
       "      <td>42</td>\n",
       "    </tr>\n",
       "    <tr>\n",
       "      <th>2</th>\n",
       "      <td>www.aurorahealthcare.com</td>\n",
       "      <td>AURORA MED CTR OSHKOSH</td>\n",
       "      <td>855 N WESTHAVEN DRIVE</td>\n",
       "      <td>Oshkosh</td>\n",
       "      <td>WI</td>\n",
       "      <td>54904</td>\n",
       "      <td>61</td>\n",
       "      <td>Winnebago</td>\n",
       "      <td>55139</td>\n",
       "      <td>44.0277</td>\n",
       "      <td>-88.5952</td>\n",
       "      <td>622210</td>\n",
       "      <td>General Medical And Surgical Hospitals</td>\n",
       "      <td>http://www.dhs.wisconsin.gov/bqaconsumer/healt...</td>\n",
       "      <td>2014-02-10T00:00:00.000Z</td>\n",
       "      <td>http://www.aurorahealthcare.com</td>\n",
       "      <td>307</td>\n",
       "      <td>55</td>\n",
       "      <td>Non-profit</td>\n",
       "      <td>61</td>\n",
       "    </tr>\n",
       "    <tr>\n",
       "      <th>3</th>\n",
       "      <td>www.affinityhealth.org</td>\n",
       "      <td>MERCY MED CTR OF OSHKOSH</td>\n",
       "      <td>500 S OAKWOOD RD</td>\n",
       "      <td>Oshkosh</td>\n",
       "      <td>WI</td>\n",
       "      <td>54904</td>\n",
       "      <td>157</td>\n",
       "      <td>Winnebago</td>\n",
       "      <td>55139</td>\n",
       "      <td>44.0124</td>\n",
       "      <td>-88.6010</td>\n",
       "      <td>622210</td>\n",
       "      <td>General Medical And Surgical Hospitals</td>\n",
       "      <td>http://www.dhs.wisconsin.gov/bqaconsumer/healt...</td>\n",
       "      <td>2014-02-10T00:00:00.000Z</td>\n",
       "      <td>http://www.affinityhealth.org</td>\n",
       "      <td>186</td>\n",
       "      <td>55</td>\n",
       "      <td>Non-profit</td>\n",
       "      <td>157</td>\n",
       "    </tr>\n",
       "    <tr>\n",
       "      <th>6</th>\n",
       "      <td>www.riverviewhospital.org</td>\n",
       "      <td>RIVERVIEW HSPTL ASSOC</td>\n",
       "      <td>410 Dewey Street</td>\n",
       "      <td>Wisconsin Rapids</td>\n",
       "      <td>WI</td>\n",
       "      <td>54495</td>\n",
       "      <td>69</td>\n",
       "      <td>Wood</td>\n",
       "      <td>55141</td>\n",
       "      <td>44.3818</td>\n",
       "      <td>-89.8299</td>\n",
       "      <td>622210</td>\n",
       "      <td>General Medical And Surgical Hospitals</td>\n",
       "      <td>http://www.dhs.wisconsin.gov/bqaconsumer/healt...</td>\n",
       "      <td>2014-02-10T00:00:00.000Z</td>\n",
       "      <td>http://www.riverviewhospital.org</td>\n",
       "      <td>11</td>\n",
       "      <td>55</td>\n",
       "      <td>Non-profit</td>\n",
       "      <td>69</td>\n",
       "    </tr>\n",
       "    <tr>\n",
       "      <th>7</th>\n",
       "      <td>www.co.wood.wi.us</td>\n",
       "      <td>NORWOOD HLTH CTR</td>\n",
       "      <td>1600 N CHESTNUT AVE</td>\n",
       "      <td>Marshfield</td>\n",
       "      <td>WI</td>\n",
       "      <td>54449</td>\n",
       "      <td>40</td>\n",
       "      <td>Wood</td>\n",
       "      <td>55141</td>\n",
       "      <td>44.6823</td>\n",
       "      <td>-90.1658</td>\n",
       "      <td>622210</td>\n",
       "      <td>Hospitals, psychiatric (except convalescent)</td>\n",
       "      <td>http://www.dhs.wisconsin.gov/bqaconsumer/healt...</td>\n",
       "      <td>2014-02-10T00:00:00.000Z</td>\n",
       "      <td>http://www.co.wood.wi.us/norwood/index.htm</td>\n",
       "      <td>211</td>\n",
       "      <td>55</td>\n",
       "      <td>Government - Local</td>\n",
       "      <td>40</td>\n",
       "    </tr>\n",
       "  </tbody>\n",
       "</table>\n",
       "</div>"
      ],
      "text/plain": [
       "                         url                                     NAME  \\\n",
       "0                www.chw.org  CHILDRENS HSPTL OF WISCONSIN FOX VALLEY   \n",
       "2   www.aurorahealthcare.com                   AURORA MED CTR OSHKOSH   \n",
       "3     www.affinityhealth.org                 MERCY MED CTR OF OSHKOSH   \n",
       "6  www.riverviewhospital.org                    RIVERVIEW HSPTL ASSOC   \n",
       "7          www.co.wood.wi.us                         NORWOOD HLTH CTR   \n",
       "\n",
       "                 ADDRESS              CITY STATE    ZIP  POPULATION  \\\n",
       "0          130 SECOND ST            Neenah    WI  54956          42   \n",
       "2  855 N WESTHAVEN DRIVE           Oshkosh    WI  54904          61   \n",
       "3       500 S OAKWOOD RD           Oshkosh    WI  54904         157   \n",
       "6       410 Dewey Street  Wisconsin Rapids    WI  54495          69   \n",
       "7    1600 N CHESTNUT AVE        Marshfield    WI  54449          40   \n",
       "\n",
       "      COUNTY  COUNTYFIPS  LATITUDE  LONGITUDE  NAICS_CODE  \\\n",
       "0  Winnebago       55139   44.1871   -88.4544      622210   \n",
       "2  Winnebago       55139   44.0277   -88.5952      622210   \n",
       "3  Winnebago       55139   44.0124   -88.6010      622210   \n",
       "6       Wood       55141   44.3818   -89.8299      622210   \n",
       "7       Wood       55141   44.6823   -90.1658      622210   \n",
       "\n",
       "                                     NAICS_DESC  \\\n",
       "0                 Children'S Hospitals, General   \n",
       "2        General Medical And Surgical Hospitals   \n",
       "3        General Medical And Surgical Hospitals   \n",
       "6        General Medical And Surgical Hospitals   \n",
       "7  Hospitals, psychiatric (except convalescent)   \n",
       "\n",
       "                                              SOURCE  \\\n",
       "0  http://www.dhs.wisconsin.gov/bqaconsumer/healt...   \n",
       "2  http://www.dhs.wisconsin.gov/bqaconsumer/healt...   \n",
       "3  http://www.dhs.wisconsin.gov/bqaconsumer/healt...   \n",
       "6  http://www.dhs.wisconsin.gov/bqaconsumer/healt...   \n",
       "7  http://www.dhs.wisconsin.gov/bqaconsumer/healt...   \n",
       "\n",
       "                   VAL_DATE                                     WEBSITE  \\\n",
       "0  2014-03-12T00:00:00.000Z                          http://www.chw.org   \n",
       "2  2014-02-10T00:00:00.000Z             http://www.aurorahealthcare.com   \n",
       "3  2014-02-10T00:00:00.000Z               http://www.affinityhealth.org   \n",
       "6  2014-02-10T00:00:00.000Z            http://www.riverviewhospital.org   \n",
       "7  2014-02-10T00:00:00.000Z  http://www.co.wood.wi.us/norwood/index.htm   \n",
       "\n",
       "  STATE_ID  ST_FIPS               OWNER  BEDS  \n",
       "0     1005       55          Non-profit    42  \n",
       "2      307       55          Non-profit    61  \n",
       "3      186       55          Non-profit   157  \n",
       "6       11       55          Non-profit    69  \n",
       "7      211       55  Government - Local    40  "
      ]
     },
     "execution_count": 108,
     "metadata": {},
     "output_type": "execute_result"
    }
   ],
   "source": [
    "df_addresses_cleaned.head()"
   ]
  },
  {
   "cell_type": "code",
   "execution_count": 109,
   "metadata": {
    "collapsed": true
   },
   "outputs": [],
   "source": [
    "#Create one file merging terms and hospital information\n",
    "#Merge terms and addresses\n",
    "df_merged = pd.merge(df_sites_terms, df_addresses_cleaned, on=\"url\")"
   ]
  },
  {
   "cell_type": "code",
   "execution_count": 110,
   "metadata": {
    "collapsed": false
   },
   "outputs": [
    {
     "data": {
      "text/html": [
       "<div>\n",
       "<style scoped>\n",
       "    .dataframe tbody tr th:only-of-type {\n",
       "        vertical-align: middle;\n",
       "    }\n",
       "\n",
       "    .dataframe tbody tr th {\n",
       "        vertical-align: top;\n",
       "    }\n",
       "\n",
       "    .dataframe thead th {\n",
       "        text-align: right;\n",
       "    }\n",
       "</style>\n",
       "<table border=\"1\" class=\"dataframe\">\n",
       "  <thead>\n",
       "    <tr style=\"text-align: right;\">\n",
       "      <th></th>\n",
       "      <th>url</th>\n",
       "      <th>terms</th>\n",
       "      <th>number_of_terms</th>\n",
       "      <th>NAME</th>\n",
       "      <th>ADDRESS</th>\n",
       "      <th>CITY</th>\n",
       "      <th>STATE</th>\n",
       "      <th>ZIP</th>\n",
       "      <th>POPULATION</th>\n",
       "      <th>COUNTY</th>\n",
       "      <th>...</th>\n",
       "      <th>LONGITUDE</th>\n",
       "      <th>NAICS_CODE</th>\n",
       "      <th>NAICS_DESC</th>\n",
       "      <th>SOURCE</th>\n",
       "      <th>VAL_DATE</th>\n",
       "      <th>WEBSITE</th>\n",
       "      <th>STATE_ID</th>\n",
       "      <th>ST_FIPS</th>\n",
       "      <th>OWNER</th>\n",
       "      <th>BEDS</th>\n",
       "    </tr>\n",
       "  </thead>\n",
       "  <tbody>\n",
       "    <tr>\n",
       "      <th>0</th>\n",
       "      <td>mercymiami.com</td>\n",
       "      <td>{anesthesiology, maternity, Paul, behavioral, ...</td>\n",
       "      <td>130</td>\n",
       "      <td>Mercy Hospital</td>\n",
       "      <td>3663 S Miami Ave</td>\n",
       "      <td>Miami</td>\n",
       "      <td>FL</td>\n",
       "      <td>33133</td>\n",
       "      <td>473</td>\n",
       "      <td>Miami-Dade</td>\n",
       "      <td>...</td>\n",
       "      <td>-80.2144</td>\n",
       "      <td>622210</td>\n",
       "      <td>General Medical And Surgical Hospitals</td>\n",
       "      <td>http://www.fgdl.org/metadataexplorer/explorer.jsp</td>\n",
       "      <td>2014-02-10T00:00:00.000Z</td>\n",
       "      <td>http://mercymiami.com/</td>\n",
       "      <td>9878</td>\n",
       "      <td>12</td>\n",
       "      <td>Non-profit</td>\n",
       "      <td>473</td>\n",
       "    </tr>\n",
       "    <tr>\n",
       "      <th>1</th>\n",
       "      <td>www.acadiahospital.org</td>\n",
       "      <td>{Parkinson, CBT, Battle, Suboxone, Scott, May,...</td>\n",
       "      <td>21</td>\n",
       "      <td>The Acadia Hospital</td>\n",
       "      <td>268 Stillwater Avenue</td>\n",
       "      <td>Bangor</td>\n",
       "      <td>ME</td>\n",
       "      <td>4401</td>\n",
       "      <td>68</td>\n",
       "      <td>Penobscot</td>\n",
       "      <td>...</td>\n",
       "      <td>-68.7633</td>\n",
       "      <td>622210</td>\n",
       "      <td>Hospitals, General Medical And Surgical</td>\n",
       "      <td>http://megis.maine.gov/catalog</td>\n",
       "      <td>2014-02-10T00:00:00.000Z</td>\n",
       "      <td>http://www.acadiahospital.org</td>\n",
       "      <td>Not Available</td>\n",
       "      <td>23</td>\n",
       "      <td>Non-profit</td>\n",
       "      <td>68</td>\n",
       "    </tr>\n",
       "    <tr>\n",
       "      <th>2</th>\n",
       "      <td>www.adaircountyhealthsystem.org</td>\n",
       "      <td>{extreme, winter, spring, symptoms, place, han...</td>\n",
       "      <td>129</td>\n",
       "      <td>Adair County Memorial Hospital</td>\n",
       "      <td>Rr #2 Po Box 100</td>\n",
       "      <td>Greenfield</td>\n",
       "      <td>IA</td>\n",
       "      <td>50849</td>\n",
       "      <td>18</td>\n",
       "      <td>Adair</td>\n",
       "      <td>...</td>\n",
       "      <td>-94.4520</td>\n",
       "      <td>622210</td>\n",
       "      <td>General Medical And Surgical Hospitals</td>\n",
       "      <td>ftp://ftp.igsb.uiowa.edu/gis_library/IA_State/...</td>\n",
       "      <td>2014-03-12T00:00:00.000Z</td>\n",
       "      <td>http://www.adaircountyhealthsystem.org</td>\n",
       "      <td>Not Available</td>\n",
       "      <td>19</td>\n",
       "      <td>Government - Local</td>\n",
       "      <td>18</td>\n",
       "    </tr>\n",
       "    <tr>\n",
       "      <th>3</th>\n",
       "      <td>www.adventisthealth.org</td>\n",
       "      <td>{maternity, spring, large, symptoms, armenia, ...</td>\n",
       "      <td>718</td>\n",
       "      <td>St. Helena Hospital - Clearlake</td>\n",
       "      <td>15630 18Th Ave - Hwy 53</td>\n",
       "      <td>Clearlake</td>\n",
       "      <td>CA</td>\n",
       "      <td>95422</td>\n",
       "      <td>25</td>\n",
       "      <td>Lake</td>\n",
       "      <td>...</td>\n",
       "      <td>-122.6200</td>\n",
       "      <td>622210</td>\n",
       "      <td>General Medical And Surgical Hospitals</td>\n",
       "      <td>http://www.oshpd.ca.gov/HID/Products/Listings....</td>\n",
       "      <td>2014-02-10T00:00:00.000Z</td>\n",
       "      <td>http://www.adventisthealth.org</td>\n",
       "      <td>Not Available</td>\n",
       "      <td>6</td>\n",
       "      <td>Non-profit</td>\n",
       "      <td>25</td>\n",
       "    </tr>\n",
       "    <tr>\n",
       "      <th>4</th>\n",
       "      <td>www.advocatehealth.com</td>\n",
       "      <td>{maternity, powder, neonatology, symptoms, den...</td>\n",
       "      <td>600</td>\n",
       "      <td>Advocate Condell Medical Center</td>\n",
       "      <td>801 S Milwaukee Ave</td>\n",
       "      <td>Libertyville</td>\n",
       "      <td>IL</td>\n",
       "      <td>60048</td>\n",
       "      <td>279</td>\n",
       "      <td>Lake</td>\n",
       "      <td>...</td>\n",
       "      <td>-87.9577</td>\n",
       "      <td>622210</td>\n",
       "      <td>General Medical And Surgical Hospitals</td>\n",
       "      <td>https://data.illinois.gov/</td>\n",
       "      <td>2014-03-12T00:00:00.000Z</td>\n",
       "      <td>http://www.advocatehealth.com/condell/</td>\n",
       "      <td>140202</td>\n",
       "      <td>17</td>\n",
       "      <td>Non-profit</td>\n",
       "      <td>279</td>\n",
       "    </tr>\n",
       "    <tr>\n",
       "      <th>5</th>\n",
       "      <td>www.alhambrahospital.com</td>\n",
       "      <td>{center, language, rehab, history, bread}</td>\n",
       "      <td>5</td>\n",
       "      <td>Alhambra Hospital</td>\n",
       "      <td>100 South Raymond Avenue</td>\n",
       "      <td>Alhambra</td>\n",
       "      <td>CA</td>\n",
       "      <td>91801</td>\n",
       "      <td>131</td>\n",
       "      <td>Los Angeles</td>\n",
       "      <td>...</td>\n",
       "      <td>-118.1440</td>\n",
       "      <td>622210</td>\n",
       "      <td>General Medical And Surgical Hospitals</td>\n",
       "      <td>http://www.oshpd.ca.gov/HID/Products/Listings....</td>\n",
       "      <td>2014-02-10T00:00:00.000Z</td>\n",
       "      <td>http://www.alhambrahospital.com</td>\n",
       "      <td>Not Available</td>\n",
       "      <td>6</td>\n",
       "      <td>Proprietary</td>\n",
       "      <td>131</td>\n",
       "    </tr>\n",
       "    <tr>\n",
       "      <th>6</th>\n",
       "      <td>www.altabatessummit.org</td>\n",
       "      <td>{atrial, gender, anvil, ann, gynecology, bmi, ...</td>\n",
       "      <td>187</td>\n",
       "      <td>Mpi Chemical Dependency Recovery Hospital</td>\n",
       "      <td>3012 Summit Street, 5Th Floor</td>\n",
       "      <td>Oakland</td>\n",
       "      <td>CA</td>\n",
       "      <td>94609</td>\n",
       "      <td>24</td>\n",
       "      <td>Alameda</td>\n",
       "      <td>...</td>\n",
       "      <td>-122.2640</td>\n",
       "      <td>622310</td>\n",
       "      <td>Rehabilitation Hospitals (Except Alcoholism, D...</td>\n",
       "      <td>http://www.oshpd.ca.gov/HID/Products/Listings....</td>\n",
       "      <td>2014-02-10T00:00:00.000Z</td>\n",
       "      <td>http://www.altabatessummit.org/mpi/</td>\n",
       "      <td>Not Available</td>\n",
       "      <td>6</td>\n",
       "      <td>Non-profit</td>\n",
       "      <td>24</td>\n",
       "    </tr>\n",
       "    <tr>\n",
       "      <th>7</th>\n",
       "      <td>www.altonmemorialhospital.org</td>\n",
       "      <td>{Outcome, PET, COPD, Lactobacillus, Roth, alph...</td>\n",
       "      <td>25</td>\n",
       "      <td>Alton Memorial Hospital</td>\n",
       "      <td>One Memorial Drive</td>\n",
       "      <td>Alton</td>\n",
       "      <td>IL</td>\n",
       "      <td>62002</td>\n",
       "      <td>253</td>\n",
       "      <td>Madison</td>\n",
       "      <td>...</td>\n",
       "      <td>-90.1591</td>\n",
       "      <td>622210</td>\n",
       "      <td>General Medical And Surgical Hospitals</td>\n",
       "      <td>https://data.illinois.gov/</td>\n",
       "      <td>2014-02-10T00:00:00.000Z</td>\n",
       "      <td>http://www.altonmemorialhospital.org</td>\n",
       "      <td>140002</td>\n",
       "      <td>17</td>\n",
       "      <td>Non-profit</td>\n",
       "      <td>253</td>\n",
       "    </tr>\n",
       "    <tr>\n",
       "      <th>8</th>\n",
       "      <td>www.alvaradohospital.com</td>\n",
       "      <td>{Paul, Gibson, Gordon, Scott, Cox, San, Mark, ...</td>\n",
       "      <td>109</td>\n",
       "      <td>Alvarado Hospital Medical Center</td>\n",
       "      <td>6655 Alvarado Road</td>\n",
       "      <td>San Diego</td>\n",
       "      <td>CA</td>\n",
       "      <td>92120</td>\n",
       "      <td>226</td>\n",
       "      <td>San Diego</td>\n",
       "      <td>...</td>\n",
       "      <td>-117.0570</td>\n",
       "      <td>622210</td>\n",
       "      <td>General Medical And Surgical Hospitals</td>\n",
       "      <td>http://www.oshpd.ca.gov/HID/Products/Listings....</td>\n",
       "      <td>2014-02-10T00:00:00.000Z</td>\n",
       "      <td>http://www.alvaradohospital.com</td>\n",
       "      <td>Not Available</td>\n",
       "      <td>6</td>\n",
       "      <td>Proprietary</td>\n",
       "      <td>226</td>\n",
       "    </tr>\n",
       "    <tr>\n",
       "      <th>9</th>\n",
       "      <td>www.archildrens.org</td>\n",
       "      <td>{symptoms, dental, neurosurgery, non, pulmonar...</td>\n",
       "      <td>557</td>\n",
       "      <td>Arkansas Children's Hospital</td>\n",
       "      <td>800 Marshall Street, Slot 301</td>\n",
       "      <td>Little Rock</td>\n",
       "      <td>AR</td>\n",
       "      <td>72202</td>\n",
       "      <td>280</td>\n",
       "      <td>Pulaski</td>\n",
       "      <td>...</td>\n",
       "      <td>-92.2924</td>\n",
       "      <td>622210</td>\n",
       "      <td>General Medical And Surgical Hospitals</td>\n",
       "      <td>http://www.arkansassiteselection.com/aedc/gis-...</td>\n",
       "      <td>2014-03-12T00:00:00.000Z</td>\n",
       "      <td>http://www.archildrens.org</td>\n",
       "      <td>43300</td>\n",
       "      <td>5</td>\n",
       "      <td>Non-profit</td>\n",
       "      <td>280</td>\n",
       "    </tr>\n",
       "  </tbody>\n",
       "</table>\n",
       "<p>10 rows × 22 columns</p>\n",
       "</div>"
      ],
      "text/plain": [
       "                               url  \\\n",
       "0                   mercymiami.com   \n",
       "1           www.acadiahospital.org   \n",
       "2  www.adaircountyhealthsystem.org   \n",
       "3          www.adventisthealth.org   \n",
       "4           www.advocatehealth.com   \n",
       "5         www.alhambrahospital.com   \n",
       "6          www.altabatessummit.org   \n",
       "7    www.altonmemorialhospital.org   \n",
       "8         www.alvaradohospital.com   \n",
       "9              www.archildrens.org   \n",
       "\n",
       "                                               terms  number_of_terms  \\\n",
       "0  {anesthesiology, maternity, Paul, behavioral, ...              130   \n",
       "1  {Parkinson, CBT, Battle, Suboxone, Scott, May,...               21   \n",
       "2  {extreme, winter, spring, symptoms, place, han...              129   \n",
       "3  {maternity, spring, large, symptoms, armenia, ...              718   \n",
       "4  {maternity, powder, neonatology, symptoms, den...              600   \n",
       "5          {center, language, rehab, history, bread}                5   \n",
       "6  {atrial, gender, anvil, ann, gynecology, bmi, ...              187   \n",
       "7  {Outcome, PET, COPD, Lactobacillus, Roth, alph...               25   \n",
       "8  {Paul, Gibson, Gordon, Scott, Cox, San, Mark, ...              109   \n",
       "9  {symptoms, dental, neurosurgery, non, pulmonar...              557   \n",
       "\n",
       "                                        NAME                        ADDRESS  \\\n",
       "0                             Mercy Hospital               3663 S Miami Ave   \n",
       "1                        The Acadia Hospital          268 Stillwater Avenue   \n",
       "2             Adair County Memorial Hospital               Rr #2 Po Box 100   \n",
       "3            St. Helena Hospital - Clearlake        15630 18Th Ave - Hwy 53   \n",
       "4            Advocate Condell Medical Center            801 S Milwaukee Ave   \n",
       "5                          Alhambra Hospital       100 South Raymond Avenue   \n",
       "6  Mpi Chemical Dependency Recovery Hospital  3012 Summit Street, 5Th Floor   \n",
       "7                    Alton Memorial Hospital             One Memorial Drive   \n",
       "8           Alvarado Hospital Medical Center             6655 Alvarado Road   \n",
       "9               Arkansas Children's Hospital  800 Marshall Street, Slot 301   \n",
       "\n",
       "           CITY STATE    ZIP  POPULATION       COUNTY  ...   LONGITUDE  \\\n",
       "0         Miami    FL  33133         473   Miami-Dade  ...    -80.2144   \n",
       "1        Bangor    ME   4401          68    Penobscot  ...    -68.7633   \n",
       "2    Greenfield    IA  50849          18        Adair  ...    -94.4520   \n",
       "3     Clearlake    CA  95422          25         Lake  ...   -122.6200   \n",
       "4  Libertyville    IL  60048         279         Lake  ...    -87.9577   \n",
       "5      Alhambra    CA  91801         131  Los Angeles  ...   -118.1440   \n",
       "6       Oakland    CA  94609          24      Alameda  ...   -122.2640   \n",
       "7         Alton    IL  62002         253      Madison  ...    -90.1591   \n",
       "8     San Diego    CA  92120         226    San Diego  ...   -117.0570   \n",
       "9   Little Rock    AR  72202         280      Pulaski  ...    -92.2924   \n",
       "\n",
       "   NAICS_CODE                                         NAICS_DESC  \\\n",
       "0      622210             General Medical And Surgical Hospitals   \n",
       "1      622210            Hospitals, General Medical And Surgical   \n",
       "2      622210             General Medical And Surgical Hospitals   \n",
       "3      622210             General Medical And Surgical Hospitals   \n",
       "4      622210             General Medical And Surgical Hospitals   \n",
       "5      622210             General Medical And Surgical Hospitals   \n",
       "6      622310  Rehabilitation Hospitals (Except Alcoholism, D...   \n",
       "7      622210             General Medical And Surgical Hospitals   \n",
       "8      622210             General Medical And Surgical Hospitals   \n",
       "9      622210             General Medical And Surgical Hospitals   \n",
       "\n",
       "                                              SOURCE  \\\n",
       "0  http://www.fgdl.org/metadataexplorer/explorer.jsp   \n",
       "1                     http://megis.maine.gov/catalog   \n",
       "2  ftp://ftp.igsb.uiowa.edu/gis_library/IA_State/...   \n",
       "3  http://www.oshpd.ca.gov/HID/Products/Listings....   \n",
       "4                         https://data.illinois.gov/   \n",
       "5  http://www.oshpd.ca.gov/HID/Products/Listings....   \n",
       "6  http://www.oshpd.ca.gov/HID/Products/Listings....   \n",
       "7                         https://data.illinois.gov/   \n",
       "8  http://www.oshpd.ca.gov/HID/Products/Listings....   \n",
       "9  http://www.arkansassiteselection.com/aedc/gis-...   \n",
       "\n",
       "                   VAL_DATE                                 WEBSITE  \\\n",
       "0  2014-02-10T00:00:00.000Z                  http://mercymiami.com/   \n",
       "1  2014-02-10T00:00:00.000Z           http://www.acadiahospital.org   \n",
       "2  2014-03-12T00:00:00.000Z  http://www.adaircountyhealthsystem.org   \n",
       "3  2014-02-10T00:00:00.000Z          http://www.adventisthealth.org   \n",
       "4  2014-03-12T00:00:00.000Z  http://www.advocatehealth.com/condell/   \n",
       "5  2014-02-10T00:00:00.000Z         http://www.alhambrahospital.com   \n",
       "6  2014-02-10T00:00:00.000Z     http://www.altabatessummit.org/mpi/   \n",
       "7  2014-02-10T00:00:00.000Z    http://www.altonmemorialhospital.org   \n",
       "8  2014-02-10T00:00:00.000Z         http://www.alvaradohospital.com   \n",
       "9  2014-03-12T00:00:00.000Z              http://www.archildrens.org   \n",
       "\n",
       "        STATE_ID ST_FIPS               OWNER  BEDS  \n",
       "0           9878      12          Non-profit   473  \n",
       "1  Not Available      23          Non-profit    68  \n",
       "2  Not Available      19  Government - Local    18  \n",
       "3  Not Available       6          Non-profit    25  \n",
       "4         140202      17          Non-profit   279  \n",
       "5  Not Available       6         Proprietary   131  \n",
       "6  Not Available       6          Non-profit    24  \n",
       "7         140002      17          Non-profit   253  \n",
       "8  Not Available       6         Proprietary   226  \n",
       "9          43300       5          Non-profit   280  \n",
       "\n",
       "[10 rows x 22 columns]"
      ]
     },
     "execution_count": 110,
     "metadata": {},
     "output_type": "execute_result"
    }
   ],
   "source": [
    "df_merged.head(10)"
   ]
  },
  {
   "cell_type": "code",
   "execution_count": 111,
   "metadata": {
    "collapsed": true
   },
   "outputs": [],
   "source": [
    "#extract states and terms to do some calculations\n",
    "df_states_terms = df_merged[['STATE','terms','number_of_terms']]"
   ]
  },
  {
   "cell_type": "code",
   "execution_count": 112,
   "metadata": {
    "collapsed": false
   },
   "outputs": [
    {
     "data": {
      "text/plain": [
       "(200, 3)"
      ]
     },
     "execution_count": 112,
     "metadata": {},
     "output_type": "execute_result"
    }
   ],
   "source": [
    "df_states_terms.shape"
   ]
  },
  {
   "cell_type": "code",
   "execution_count": 113,
   "metadata": {
    "collapsed": true
   },
   "outputs": [],
   "source": [
    "#Collect terms and group by state\n",
    "state_terms = {}"
   ]
  },
  {
   "cell_type": "code",
   "execution_count": 114,
   "metadata": {
    "collapsed": true
   },
   "outputs": [],
   "source": [
    "for index, row in df_states_terms.iterrows():\n",
    "    state = row['STATE']\n",
    "    terms = list(row['terms'])\n",
    "    if(state in state_terms):\n",
    "        state_terms[state].update(terms)\n",
    "    else:\n",
    "        state_terms[state] = Counter(terms)\n",
    "        \n",
    "        "
   ]
  },
  {
   "cell_type": "code",
   "execution_count": 115,
   "metadata": {
    "collapsed": false
   },
   "outputs": [
    {
     "data": {
      "text/plain": [
       "[('care', 22),\n",
       " ('stroke', 22),\n",
       " ('medical', 22),\n",
       " ('cancer', 22),\n",
       " ('medicine', 20),\n",
       " ('surgery', 20),\n",
       " ('heart', 20),\n",
       " ('center', 20),\n",
       " ('quality', 19),\n",
       " ('family', 18),\n",
       " ('board', 17),\n",
       " ('surgical', 17),\n",
       " ('hospital', 17),\n",
       " ('staff', 17),\n",
       " ('breast', 17),\n",
       " ('outpatient', 16),\n",
       " ('foundation', 16),\n",
       " ('clinical', 16),\n",
       " ('imaging', 16),\n",
       " ('risk', 16)]"
      ]
     },
     "execution_count": 115,
     "metadata": {},
     "output_type": "execute_result"
    }
   ],
   "source": [
    "#Show California most frequent terms\n",
    "state_terms['CA'].most_common(20)"
   ]
  },
  {
   "cell_type": "code",
   "execution_count": 116,
   "metadata": {
    "collapsed": true
   },
   "outputs": [],
   "source": [
    "#create text based on frequency of top words\n",
    "most_common_words_str = \"\"\n",
    "for word in state_terms['CA'].most_common(100):\n",
    "    most_common_words_str += str(word[0]+\" \")*word[1]"
   ]
  },
  {
   "cell_type": "code",
   "execution_count": 117,
   "metadata": {
    "collapsed": false
   },
   "outputs": [
    {
     "data": {
      "image/png": "[encoded data removed]",
      "text/plain": [
       "<matplotlib.figure.Figure at 0x1a40332470>"
      ]
     },
     "metadata": {},
     "output_type": "display_data"
    }
   ],
   "source": [
    "#Draw a wordcloud based on frequent terms for the state of California\n",
    "#Source: http://clipart-library.com/clipart/pcodoqRRi.htm\n",
    "california_outline = np.array(Image.open(\"state_of_california_blue.gif\"))\n",
    "wordcloud = WordCloud(background_color=\"white\",width=1200, height=800,prefer_horizontal=1,mask=california_outline, random_state=42).generate(most_common_words_str)\n",
    "plt.imshow(wordcloud, interpolation='bilinear')\n",
    "plt.axis(\"off\")\n",
    "plt.savefig('california_word_cloud.png')"
   ]
  },
  {
   "cell_type": "code",
   "execution_count": 118,
   "metadata": {
    "collapsed": false
   },
   "outputs": [
    {
     "data": {
      "image/png": "[encoded data removed]",
      "text/plain": [
       "<matplotlib.figure.Figure at 0x1a40b13438>"
      ]
     },
     "metadata": {},
     "output_type": "display_data"
    }
   ],
   "source": [
    "#Draw a wordcloud based on frequent terms for the state of Florida\n",
    "most_commonfl_words_str = \"\"\n",
    "for word in state_terms['FL'].most_common(100):\n",
    "    most_commonfl_words_str += str(word[0]+\" \")*word[1]\n",
    "\n",
    "florida_outline = np.array(Image.open(\"florida_outline_v2.png\"))\n",
    "wordcloud = WordCloud(background_color=\"white\",width=1200, height=800,prefer_horizontal=1,mask=florida_outline, random_state=42).generate(most_commonfl_words_str)\n",
    "plt.imshow(wordcloud, interpolation='bilinear')\n",
    "plt.axis(\"off\")\n",
    "plt.savefig('florida_word_cloud.png')"
   ]
  },
  {
   "cell_type": "code",
   "execution_count": 119,
   "metadata": {
    "collapsed": false
   },
   "outputs": [
    {
     "data": {
      "text/plain": [
       "General Medical And Surgical Hospitals                          180\n",
       "Hospitals, General Medical And Surgical                           9\n",
       "Children'S Hospitals, General                                     3\n",
       "Rehabilitation Hospitals (Except Alcoholism, Drug Addiction)      3\n",
       "Hospitals, Psychiatric (Except Convalescent)                      2\n",
       "Children's hospitals, general                                     2\n",
       "Hospitals, general medical and surgical                           1\n",
       "Name: NAICS_DESC, dtype: int64"
      ]
     },
     "execution_count": 119,
     "metadata": {},
     "output_type": "execute_result"
    }
   ],
   "source": [
    "#Check how many types of hospitals in dataset\n",
    "df_merged['NAICS_DESC'].value_counts()"
   ]
  },
  {
   "cell_type": "code",
   "execution_count": 120,
   "metadata": {
    "collapsed": true
   },
   "outputs": [],
   "source": [
    "# Compute the correlation matrix, to see if there are any interesting ones\n",
    "corr = df_merged.corr()"
   ]
  },
  {
   "cell_type": "code",
   "execution_count": 121,
   "metadata": {
    "collapsed": false
   },
   "outputs": [
    {
     "data": {
      "text/html": [
       "<div>\n",
       "<style scoped>\n",
       "    .dataframe tbody tr th:only-of-type {\n",
       "        vertical-align: middle;\n",
       "    }\n",
       "\n",
       "    .dataframe tbody tr th {\n",
       "        vertical-align: top;\n",
       "    }\n",
       "\n",
       "    .dataframe thead th {\n",
       "        text-align: right;\n",
       "    }\n",
       "</style>\n",
       "<table border=\"1\" class=\"dataframe\">\n",
       "  <thead>\n",
       "    <tr style=\"text-align: right;\">\n",
       "      <th></th>\n",
       "      <th>number_of_terms</th>\n",
       "      <th>ZIP</th>\n",
       "      <th>POPULATION</th>\n",
       "      <th>COUNTYFIPS</th>\n",
       "      <th>LATITUDE</th>\n",
       "      <th>LONGITUDE</th>\n",
       "      <th>NAICS_CODE</th>\n",
       "      <th>ST_FIPS</th>\n",
       "      <th>BEDS</th>\n",
       "    </tr>\n",
       "  </thead>\n",
       "  <tbody>\n",
       "    <tr>\n",
       "      <th>number_of_terms</th>\n",
       "      <td>1.000000</td>\n",
       "      <td>-0.092610</td>\n",
       "      <td>0.274329</td>\n",
       "      <td>0.182267</td>\n",
       "      <td>-0.083358</td>\n",
       "      <td>0.087285</td>\n",
       "      <td>-0.006871</td>\n",
       "      <td>0.181590</td>\n",
       "      <td>0.274329</td>\n",
       "    </tr>\n",
       "    <tr>\n",
       "      <th>ZIP</th>\n",
       "      <td>-0.092610</td>\n",
       "      <td>1.000000</td>\n",
       "      <td>-0.133248</td>\n",
       "      <td>-0.421849</td>\n",
       "      <td>-0.154667</td>\n",
       "      <td>-0.921542</td>\n",
       "      <td>0.121238</td>\n",
       "      <td>-0.423787</td>\n",
       "      <td>-0.133248</td>\n",
       "    </tr>\n",
       "    <tr>\n",
       "      <th>POPULATION</th>\n",
       "      <td>0.274329</td>\n",
       "      <td>-0.133248</td>\n",
       "      <td>1.000000</td>\n",
       "      <td>0.030275</td>\n",
       "      <td>-0.173077</td>\n",
       "      <td>0.113853</td>\n",
       "      <td>-0.069508</td>\n",
       "      <td>0.029558</td>\n",
       "      <td>1.000000</td>\n",
       "    </tr>\n",
       "    <tr>\n",
       "      <th>COUNTYFIPS</th>\n",
       "      <td>0.182267</td>\n",
       "      <td>-0.421849</td>\n",
       "      <td>0.030275</td>\n",
       "      <td>1.000000</td>\n",
       "      <td>0.345165</td>\n",
       "      <td>0.460458</td>\n",
       "      <td>-0.077815</td>\n",
       "      <td>0.999968</td>\n",
       "      <td>0.030275</td>\n",
       "    </tr>\n",
       "    <tr>\n",
       "      <th>LATITUDE</th>\n",
       "      <td>-0.083358</td>\n",
       "      <td>-0.154667</td>\n",
       "      <td>-0.173077</td>\n",
       "      <td>0.345165</td>\n",
       "      <td>1.000000</td>\n",
       "      <td>0.201146</td>\n",
       "      <td>0.003558</td>\n",
       "      <td>0.346345</td>\n",
       "      <td>-0.173077</td>\n",
       "    </tr>\n",
       "    <tr>\n",
       "      <th>LONGITUDE</th>\n",
       "      <td>0.087285</td>\n",
       "      <td>-0.921542</td>\n",
       "      <td>0.113853</td>\n",
       "      <td>0.460458</td>\n",
       "      <td>0.201146</td>\n",
       "      <td>1.000000</td>\n",
       "      <td>-0.117563</td>\n",
       "      <td>0.461645</td>\n",
       "      <td>0.113853</td>\n",
       "    </tr>\n",
       "    <tr>\n",
       "      <th>NAICS_CODE</th>\n",
       "      <td>-0.006871</td>\n",
       "      <td>0.121238</td>\n",
       "      <td>-0.069508</td>\n",
       "      <td>-0.077815</td>\n",
       "      <td>0.003558</td>\n",
       "      <td>-0.117563</td>\n",
       "      <td>1.000000</td>\n",
       "      <td>-0.077461</td>\n",
       "      <td>-0.069508</td>\n",
       "    </tr>\n",
       "    <tr>\n",
       "      <th>ST_FIPS</th>\n",
       "      <td>0.181590</td>\n",
       "      <td>-0.423787</td>\n",
       "      <td>0.029558</td>\n",
       "      <td>0.999968</td>\n",
       "      <td>0.346345</td>\n",
       "      <td>0.461645</td>\n",
       "      <td>-0.077461</td>\n",
       "      <td>1.000000</td>\n",
       "      <td>0.029558</td>\n",
       "    </tr>\n",
       "    <tr>\n",
       "      <th>BEDS</th>\n",
       "      <td>0.274329</td>\n",
       "      <td>-0.133248</td>\n",
       "      <td>1.000000</td>\n",
       "      <td>0.030275</td>\n",
       "      <td>-0.173077</td>\n",
       "      <td>0.113853</td>\n",
       "      <td>-0.069508</td>\n",
       "      <td>0.029558</td>\n",
       "      <td>1.000000</td>\n",
       "    </tr>\n",
       "  </tbody>\n",
       "</table>\n",
       "</div>"
      ],
      "text/plain": [
       "                 number_of_terms       ZIP  POPULATION  COUNTYFIPS  LATITUDE  \\\n",
       "number_of_terms         1.000000 -0.092610    0.274329    0.182267 -0.083358   \n",
       "ZIP                    -0.092610  1.000000   -0.133248   -0.421849 -0.154667   \n",
       "POPULATION              0.274329 -0.133248    1.000000    0.030275 -0.173077   \n",
       "COUNTYFIPS              0.182267 -0.421849    0.030275    1.000000  0.345165   \n",
       "LATITUDE               -0.083358 -0.154667   -0.173077    0.345165  1.000000   \n",
       "LONGITUDE               0.087285 -0.921542    0.113853    0.460458  0.201146   \n",
       "NAICS_CODE             -0.006871  0.121238   -0.069508   -0.077815  0.003558   \n",
       "ST_FIPS                 0.181590 -0.423787    0.029558    0.999968  0.346345   \n",
       "BEDS                    0.274329 -0.133248    1.000000    0.030275 -0.173077   \n",
       "\n",
       "                 LONGITUDE  NAICS_CODE   ST_FIPS      BEDS  \n",
       "number_of_terms   0.087285   -0.006871  0.181590  0.274329  \n",
       "ZIP              -0.921542    0.121238 -0.423787 -0.133248  \n",
       "POPULATION        0.113853   -0.069508  0.029558  1.000000  \n",
       "COUNTYFIPS        0.460458   -0.077815  0.999968  0.030275  \n",
       "LATITUDE          0.201146    0.003558  0.346345 -0.173077  \n",
       "LONGITUDE         1.000000   -0.117563  0.461645  0.113853  \n",
       "NAICS_CODE       -0.117563    1.000000 -0.077461 -0.069508  \n",
       "ST_FIPS           0.461645   -0.077461  1.000000  0.029558  \n",
       "BEDS              0.113853   -0.069508  0.029558  1.000000  "
      ]
     },
     "execution_count": 121,
     "metadata": {},
     "output_type": "execute_result"
    }
   ],
   "source": [
    "corr"
   ]
  },
  {
   "cell_type": "code",
   "execution_count": 122,
   "metadata": {
    "collapsed": true
   },
   "outputs": [],
   "source": [
    "#Extract state, NAICS, and terms\n",
    "df_state_naics_terms = df_merged[[\"STATE\", \"NAICS_DESC\",\"number_of_terms\"]]"
   ]
  },
  {
   "cell_type": "code",
   "execution_count": 123,
   "metadata": {
    "collapsed": false
   },
   "outputs": [
    {
     "data": {
      "text/html": [
       "<div>\n",
       "<style scoped>\n",
       "    .dataframe tbody tr th:only-of-type {\n",
       "        vertical-align: middle;\n",
       "    }\n",
       "\n",
       "    .dataframe tbody tr th {\n",
       "        vertical-align: top;\n",
       "    }\n",
       "\n",
       "    .dataframe thead th {\n",
       "        text-align: right;\n",
       "    }\n",
       "</style>\n",
       "<table border=\"1\" class=\"dataframe\">\n",
       "  <thead>\n",
       "    <tr style=\"text-align: right;\">\n",
       "      <th></th>\n",
       "      <th>STATE</th>\n",
       "      <th>NAICS_DESC</th>\n",
       "      <th>number_of_terms</th>\n",
       "    </tr>\n",
       "  </thead>\n",
       "  <tbody>\n",
       "    <tr>\n",
       "      <th>0</th>\n",
       "      <td>FL</td>\n",
       "      <td>General Medical And Surgical Hospitals</td>\n",
       "      <td>130</td>\n",
       "    </tr>\n",
       "    <tr>\n",
       "      <th>1</th>\n",
       "      <td>ME</td>\n",
       "      <td>Hospitals, General Medical And Surgical</td>\n",
       "      <td>21</td>\n",
       "    </tr>\n",
       "    <tr>\n",
       "      <th>2</th>\n",
       "      <td>IA</td>\n",
       "      <td>General Medical And Surgical Hospitals</td>\n",
       "      <td>129</td>\n",
       "    </tr>\n",
       "    <tr>\n",
       "      <th>3</th>\n",
       "      <td>CA</td>\n",
       "      <td>General Medical And Surgical Hospitals</td>\n",
       "      <td>718</td>\n",
       "    </tr>\n",
       "    <tr>\n",
       "      <th>4</th>\n",
       "      <td>IL</td>\n",
       "      <td>General Medical And Surgical Hospitals</td>\n",
       "      <td>600</td>\n",
       "    </tr>\n",
       "  </tbody>\n",
       "</table>\n",
       "</div>"
      ],
      "text/plain": [
       "  STATE                               NAICS_DESC  number_of_terms\n",
       "0    FL   General Medical And Surgical Hospitals              130\n",
       "1    ME  Hospitals, General Medical And Surgical               21\n",
       "2    IA   General Medical And Surgical Hospitals              129\n",
       "3    CA   General Medical And Surgical Hospitals              718\n",
       "4    IL   General Medical And Surgical Hospitals              600"
      ]
     },
     "execution_count": 123,
     "metadata": {},
     "output_type": "execute_result"
    }
   ],
   "source": [
    "df_state_naics_terms.head()"
   ]
  },
  {
   "cell_type": "code",
   "execution_count": 124,
   "metadata": {
    "collapsed": true
   },
   "outputs": [],
   "source": [
    "#group by domain and concatenate terms\n",
    "df_grouped_by_state = df_state_naics_terms.groupby(['STATE','NAICS_DESC']).apply(lambda x: x.sum())"
   ]
  },
  {
   "cell_type": "code",
   "execution_count": 125,
   "metadata": {
    "collapsed": true
   },
   "outputs": [],
   "source": [
    "#rename index from domain to url\n",
    "#remove extra 'domain' column\n",
    "df_grouped_by_state.index.names = ['state_key','naics_key']\n",
    "df_grouped_by_state.drop('STATE', axis=1, inplace=True)"
   ]
  },
  {
   "cell_type": "code",
   "execution_count": 126,
   "metadata": {
    "collapsed": true
   },
   "outputs": [],
   "source": [
    "df_grouped_by_state.drop('NAICS_DESC', axis=1, inplace=True)"
   ]
  },
  {
   "cell_type": "code",
   "execution_count": 127,
   "metadata": {
    "collapsed": false
   },
   "outputs": [
    {
     "data": {
      "text/html": [
       "<div>\n",
       "<style scoped>\n",
       "    .dataframe tbody tr th:only-of-type {\n",
       "        vertical-align: middle;\n",
       "    }\n",
       "\n",
       "    .dataframe tbody tr th {\n",
       "        vertical-align: top;\n",
       "    }\n",
       "\n",
       "    .dataframe thead th {\n",
       "        text-align: right;\n",
       "    }\n",
       "</style>\n",
       "<table border=\"1\" class=\"dataframe\">\n",
       "  <thead>\n",
       "    <tr style=\"text-align: right;\">\n",
       "      <th></th>\n",
       "      <th></th>\n",
       "      <th>number_of_terms</th>\n",
       "    </tr>\n",
       "    <tr>\n",
       "      <th>state_key</th>\n",
       "      <th>naics_key</th>\n",
       "      <th></th>\n",
       "    </tr>\n",
       "  </thead>\n",
       "  <tbody>\n",
       "    <tr>\n",
       "      <th>AL</th>\n",
       "      <th>General Medical And Surgical Hospitals</th>\n",
       "      <td>461</td>\n",
       "    </tr>\n",
       "    <tr>\n",
       "      <th>AR</th>\n",
       "      <th>General Medical And Surgical Hospitals</th>\n",
       "      <td>1238</td>\n",
       "    </tr>\n",
       "    <tr>\n",
       "      <th>AZ</th>\n",
       "      <th>General Medical And Surgical Hospitals</th>\n",
       "      <td>148</td>\n",
       "    </tr>\n",
       "    <tr>\n",
       "      <th rowspan=\"2\" valign=\"top\">CA</th>\n",
       "      <th>General Medical And Surgical Hospitals</th>\n",
       "      <td>7605</td>\n",
       "    </tr>\n",
       "    <tr>\n",
       "      <th>Hospitals, Psychiatric (Except Convalescent)</th>\n",
       "      <td>431</td>\n",
       "    </tr>\n",
       "  </tbody>\n",
       "</table>\n",
       "</div>"
      ],
      "text/plain": [
       "                                                        number_of_terms\n",
       "state_key naics_key                                                    \n",
       "AL        General Medical And Surgical Hospitals                    461\n",
       "AR        General Medical And Surgical Hospitals                   1238\n",
       "AZ        General Medical And Surgical Hospitals                    148\n",
       "CA        General Medical And Surgical Hospitals                   7605\n",
       "          Hospitals, Psychiatric (Except Convalescent)              431"
      ]
     },
     "execution_count": 127,
     "metadata": {},
     "output_type": "execute_result"
    }
   ],
   "source": [
    "df_grouped_by_state.head()"
   ]
  },
  {
   "cell_type": "code",
   "execution_count": 128,
   "metadata": {
    "collapsed": true
   },
   "outputs": [],
   "source": [
    "#reset index\n",
    "df_grouped_by_state.reset_index(drop=False, inplace=True)"
   ]
  },
  {
   "cell_type": "code",
   "execution_count": 129,
   "metadata": {
    "collapsed": false
   },
   "outputs": [
    {
     "data": {
      "text/html": [
       "<div>\n",
       "<style scoped>\n",
       "    .dataframe tbody tr th:only-of-type {\n",
       "        vertical-align: middle;\n",
       "    }\n",
       "\n",
       "    .dataframe tbody tr th {\n",
       "        vertical-align: top;\n",
       "    }\n",
       "\n",
       "    .dataframe thead th {\n",
       "        text-align: right;\n",
       "    }\n",
       "</style>\n",
       "<table border=\"1\" class=\"dataframe\">\n",
       "  <thead>\n",
       "    <tr style=\"text-align: right;\">\n",
       "      <th></th>\n",
       "      <th>state_key</th>\n",
       "      <th>naics_key</th>\n",
       "      <th>number_of_terms</th>\n",
       "    </tr>\n",
       "  </thead>\n",
       "  <tbody>\n",
       "    <tr>\n",
       "      <th>0</th>\n",
       "      <td>AL</td>\n",
       "      <td>General Medical And Surgical Hospitals</td>\n",
       "      <td>461</td>\n",
       "    </tr>\n",
       "    <tr>\n",
       "      <th>1</th>\n",
       "      <td>AR</td>\n",
       "      <td>General Medical And Surgical Hospitals</td>\n",
       "      <td>1238</td>\n",
       "    </tr>\n",
       "    <tr>\n",
       "      <th>2</th>\n",
       "      <td>AZ</td>\n",
       "      <td>General Medical And Surgical Hospitals</td>\n",
       "      <td>148</td>\n",
       "    </tr>\n",
       "    <tr>\n",
       "      <th>3</th>\n",
       "      <td>CA</td>\n",
       "      <td>General Medical And Surgical Hospitals</td>\n",
       "      <td>7605</td>\n",
       "    </tr>\n",
       "    <tr>\n",
       "      <th>4</th>\n",
       "      <td>CA</td>\n",
       "      <td>Hospitals, Psychiatric (Except Convalescent)</td>\n",
       "      <td>431</td>\n",
       "    </tr>\n",
       "  </tbody>\n",
       "</table>\n",
       "</div>"
      ],
      "text/plain": [
       "  state_key                                     naics_key  number_of_terms\n",
       "0        AL        General Medical And Surgical Hospitals              461\n",
       "1        AR        General Medical And Surgical Hospitals             1238\n",
       "2        AZ        General Medical And Surgical Hospitals              148\n",
       "3        CA        General Medical And Surgical Hospitals             7605\n",
       "4        CA  Hospitals, Psychiatric (Except Convalescent)              431"
      ]
     },
     "execution_count": 129,
     "metadata": {},
     "output_type": "execute_result"
    }
   ],
   "source": [
    "df_grouped_by_state.head()"
   ]
  },
  {
   "cell_type": "code",
   "execution_count": 130,
   "metadata": {
    "collapsed": true
   },
   "outputs": [],
   "source": [
    "#Plot by state, type of hoslital (NAICS) and number of unique terms\n",
    "sns.set()\n",
    "\n",
    "# Load the pivot needed for heatmap\n",
    "heatmap_data = df_grouped_by_state.pivot(\"state_key\", \"naics_key\",\"number_of_terms\")\n",
    "\n"
   ]
  },
  {
   "cell_type": "code",
   "execution_count": 131,
   "metadata": {
    "collapsed": true
   },
   "outputs": [],
   "source": [
    "heatmap_data.fillna(0, inplace=True)\n",
    "# heatmap_data.naics_key = heatmap_data.naics_key.astype(int)"
   ]
  },
  {
   "cell_type": "code",
   "execution_count": 132,
   "metadata": {
    "collapsed": false
   },
   "outputs": [
    {
     "data": {
      "text/plain": [
       "pandas.core.frame.DataFrame"
      ]
     },
     "execution_count": 132,
     "metadata": {},
     "output_type": "execute_result"
    }
   ],
   "source": [
    "type(heatmap_data)"
   ]
  },
  {
   "cell_type": "code",
   "execution_count": 133,
   "metadata": {
    "collapsed": false
   },
   "outputs": [
    {
     "data": {
      "text/plain": [
       "<matplotlib.axes._subplots.AxesSubplot at 0x1a3e292358>"
      ]
     },
     "execution_count": 133,
     "metadata": {},
     "output_type": "execute_result"
    },
    {
     "data": {
      "image/png": "[encoded data removed]",
      "text/plain": [
       "<matplotlib.figure.Figure at 0x1a3e299be0>"
      ]
     },
     "metadata": {},
     "output_type": "display_data"
    }
   ],
   "source": [
    "# Draw a heatmap with the numeric values in each cell\n",
    "f, ax = plt.subplots(figsize=(10, 8))\n",
    "sns.heatmap(heatmap_data, annot=True, fmt=\"f\", linewidths=.5, ax=ax)"
   ]
  },
  {
   "cell_type": "code",
   "execution_count": 134,
   "metadata": {
    "collapsed": false
   },
   "outputs": [
    {
     "data": {
      "text/html": [
       "<div>\n",
       "<style scoped>\n",
       "    .dataframe tbody tr th:only-of-type {\n",
       "        vertical-align: middle;\n",
       "    }\n",
       "\n",
       "    .dataframe tbody tr th {\n",
       "        vertical-align: top;\n",
       "    }\n",
       "\n",
       "    .dataframe thead th {\n",
       "        text-align: right;\n",
       "    }\n",
       "</style>\n",
       "<table border=\"1\" class=\"dataframe\">\n",
       "  <thead>\n",
       "    <tr style=\"text-align: right;\">\n",
       "      <th></th>\n",
       "      <th>url</th>\n",
       "      <th>terms</th>\n",
       "      <th>number_of_terms</th>\n",
       "      <th>NAME</th>\n",
       "      <th>ADDRESS</th>\n",
       "      <th>CITY</th>\n",
       "      <th>STATE</th>\n",
       "      <th>ZIP</th>\n",
       "      <th>POPULATION</th>\n",
       "      <th>COUNTY</th>\n",
       "      <th>...</th>\n",
       "      <th>LONGITUDE</th>\n",
       "      <th>NAICS_CODE</th>\n",
       "      <th>NAICS_DESC</th>\n",
       "      <th>SOURCE</th>\n",
       "      <th>VAL_DATE</th>\n",
       "      <th>WEBSITE</th>\n",
       "      <th>STATE_ID</th>\n",
       "      <th>ST_FIPS</th>\n",
       "      <th>OWNER</th>\n",
       "      <th>BEDS</th>\n",
       "    </tr>\n",
       "  </thead>\n",
       "  <tbody>\n",
       "    <tr>\n",
       "      <th>0</th>\n",
       "      <td>mercymiami.com</td>\n",
       "      <td>{anesthesiology, maternity, Paul, behavioral, ...</td>\n",
       "      <td>130</td>\n",
       "      <td>Mercy Hospital</td>\n",
       "      <td>3663 S Miami Ave</td>\n",
       "      <td>Miami</td>\n",
       "      <td>FL</td>\n",
       "      <td>33133</td>\n",
       "      <td>473</td>\n",
       "      <td>Miami-Dade</td>\n",
       "      <td>...</td>\n",
       "      <td>-80.2144</td>\n",
       "      <td>622210</td>\n",
       "      <td>General Medical And Surgical Hospitals</td>\n",
       "      <td>http://www.fgdl.org/metadataexplorer/explorer.jsp</td>\n",
       "      <td>2014-02-10T00:00:00.000Z</td>\n",
       "      <td>http://mercymiami.com/</td>\n",
       "      <td>9878</td>\n",
       "      <td>12</td>\n",
       "      <td>Non-profit</td>\n",
       "      <td>473</td>\n",
       "    </tr>\n",
       "    <tr>\n",
       "      <th>1</th>\n",
       "      <td>www.acadiahospital.org</td>\n",
       "      <td>{Parkinson, CBT, Battle, Suboxone, Scott, May,...</td>\n",
       "      <td>21</td>\n",
       "      <td>The Acadia Hospital</td>\n",
       "      <td>268 Stillwater Avenue</td>\n",
       "      <td>Bangor</td>\n",
       "      <td>ME</td>\n",
       "      <td>4401</td>\n",
       "      <td>68</td>\n",
       "      <td>Penobscot</td>\n",
       "      <td>...</td>\n",
       "      <td>-68.7633</td>\n",
       "      <td>622210</td>\n",
       "      <td>Hospitals, General Medical And Surgical</td>\n",
       "      <td>http://megis.maine.gov/catalog</td>\n",
       "      <td>2014-02-10T00:00:00.000Z</td>\n",
       "      <td>http://www.acadiahospital.org</td>\n",
       "      <td>Not Available</td>\n",
       "      <td>23</td>\n",
       "      <td>Non-profit</td>\n",
       "      <td>68</td>\n",
       "    </tr>\n",
       "    <tr>\n",
       "      <th>2</th>\n",
       "      <td>www.adaircountyhealthsystem.org</td>\n",
       "      <td>{extreme, winter, spring, symptoms, place, han...</td>\n",
       "      <td>129</td>\n",
       "      <td>Adair County Memorial Hospital</td>\n",
       "      <td>Rr #2 Po Box 100</td>\n",
       "      <td>Greenfield</td>\n",
       "      <td>IA</td>\n",
       "      <td>50849</td>\n",
       "      <td>18</td>\n",
       "      <td>Adair</td>\n",
       "      <td>...</td>\n",
       "      <td>-94.4520</td>\n",
       "      <td>622210</td>\n",
       "      <td>General Medical And Surgical Hospitals</td>\n",
       "      <td>ftp://ftp.igsb.uiowa.edu/gis_library/IA_State/...</td>\n",
       "      <td>2014-03-12T00:00:00.000Z</td>\n",
       "      <td>http://www.adaircountyhealthsystem.org</td>\n",
       "      <td>Not Available</td>\n",
       "      <td>19</td>\n",
       "      <td>Government - Local</td>\n",
       "      <td>18</td>\n",
       "    </tr>\n",
       "    <tr>\n",
       "      <th>3</th>\n",
       "      <td>www.adventisthealth.org</td>\n",
       "      <td>{maternity, spring, large, symptoms, armenia, ...</td>\n",
       "      <td>718</td>\n",
       "      <td>St. Helena Hospital - Clearlake</td>\n",
       "      <td>15630 18Th Ave - Hwy 53</td>\n",
       "      <td>Clearlake</td>\n",
       "      <td>CA</td>\n",
       "      <td>95422</td>\n",
       "      <td>25</td>\n",
       "      <td>Lake</td>\n",
       "      <td>...</td>\n",
       "      <td>-122.6200</td>\n",
       "      <td>622210</td>\n",
       "      <td>General Medical And Surgical Hospitals</td>\n",
       "      <td>http://www.oshpd.ca.gov/HID/Products/Listings....</td>\n",
       "      <td>2014-02-10T00:00:00.000Z</td>\n",
       "      <td>http://www.adventisthealth.org</td>\n",
       "      <td>Not Available</td>\n",
       "      <td>6</td>\n",
       "      <td>Non-profit</td>\n",
       "      <td>25</td>\n",
       "    </tr>\n",
       "    <tr>\n",
       "      <th>4</th>\n",
       "      <td>www.advocatehealth.com</td>\n",
       "      <td>{maternity, powder, neonatology, symptoms, den...</td>\n",
       "      <td>600</td>\n",
       "      <td>Advocate Condell Medical Center</td>\n",
       "      <td>801 S Milwaukee Ave</td>\n",
       "      <td>Libertyville</td>\n",
       "      <td>IL</td>\n",
       "      <td>60048</td>\n",
       "      <td>279</td>\n",
       "      <td>Lake</td>\n",
       "      <td>...</td>\n",
       "      <td>-87.9577</td>\n",
       "      <td>622210</td>\n",
       "      <td>General Medical And Surgical Hospitals</td>\n",
       "      <td>https://data.illinois.gov/</td>\n",
       "      <td>2014-03-12T00:00:00.000Z</td>\n",
       "      <td>http://www.advocatehealth.com/condell/</td>\n",
       "      <td>140202</td>\n",
       "      <td>17</td>\n",
       "      <td>Non-profit</td>\n",
       "      <td>279</td>\n",
       "    </tr>\n",
       "  </tbody>\n",
       "</table>\n",
       "<p>5 rows × 22 columns</p>\n",
       "</div>"
      ],
      "text/plain": [
       "                               url  \\\n",
       "0                   mercymiami.com   \n",
       "1           www.acadiahospital.org   \n",
       "2  www.adaircountyhealthsystem.org   \n",
       "3          www.adventisthealth.org   \n",
       "4           www.advocatehealth.com   \n",
       "\n",
       "                                               terms  number_of_terms  \\\n",
       "0  {anesthesiology, maternity, Paul, behavioral, ...              130   \n",
       "1  {Parkinson, CBT, Battle, Suboxone, Scott, May,...               21   \n",
       "2  {extreme, winter, spring, symptoms, place, han...              129   \n",
       "3  {maternity, spring, large, symptoms, armenia, ...              718   \n",
       "4  {maternity, powder, neonatology, symptoms, den...              600   \n",
       "\n",
       "                              NAME                  ADDRESS          CITY  \\\n",
       "0                   Mercy Hospital         3663 S Miami Ave         Miami   \n",
       "1              The Acadia Hospital    268 Stillwater Avenue        Bangor   \n",
       "2   Adair County Memorial Hospital         Rr #2 Po Box 100    Greenfield   \n",
       "3  St. Helena Hospital - Clearlake  15630 18Th Ave - Hwy 53     Clearlake   \n",
       "4  Advocate Condell Medical Center      801 S Milwaukee Ave  Libertyville   \n",
       "\n",
       "  STATE    ZIP  POPULATION      COUNTY  ...   LONGITUDE  NAICS_CODE  \\\n",
       "0    FL  33133         473  Miami-Dade  ...    -80.2144      622210   \n",
       "1    ME   4401          68   Penobscot  ...    -68.7633      622210   \n",
       "2    IA  50849          18       Adair  ...    -94.4520      622210   \n",
       "3    CA  95422          25        Lake  ...   -122.6200      622210   \n",
       "4    IL  60048         279        Lake  ...    -87.9577      622210   \n",
       "\n",
       "                                NAICS_DESC  \\\n",
       "0   General Medical And Surgical Hospitals   \n",
       "1  Hospitals, General Medical And Surgical   \n",
       "2   General Medical And Surgical Hospitals   \n",
       "3   General Medical And Surgical Hospitals   \n",
       "4   General Medical And Surgical Hospitals   \n",
       "\n",
       "                                              SOURCE  \\\n",
       "0  http://www.fgdl.org/metadataexplorer/explorer.jsp   \n",
       "1                     http://megis.maine.gov/catalog   \n",
       "2  ftp://ftp.igsb.uiowa.edu/gis_library/IA_State/...   \n",
       "3  http://www.oshpd.ca.gov/HID/Products/Listings....   \n",
       "4                         https://data.illinois.gov/   \n",
       "\n",
       "                   VAL_DATE                                 WEBSITE  \\\n",
       "0  2014-02-10T00:00:00.000Z                  http://mercymiami.com/   \n",
       "1  2014-02-10T00:00:00.000Z           http://www.acadiahospital.org   \n",
       "2  2014-03-12T00:00:00.000Z  http://www.adaircountyhealthsystem.org   \n",
       "3  2014-02-10T00:00:00.000Z          http://www.adventisthealth.org   \n",
       "4  2014-03-12T00:00:00.000Z  http://www.advocatehealth.com/condell/   \n",
       "\n",
       "        STATE_ID ST_FIPS               OWNER  BEDS  \n",
       "0           9878      12          Non-profit   473  \n",
       "1  Not Available      23          Non-profit    68  \n",
       "2  Not Available      19  Government - Local    18  \n",
       "3  Not Available       6          Non-profit    25  \n",
       "4         140202      17          Non-profit   279  \n",
       "\n",
       "[5 rows x 22 columns]"
      ]
     },
     "execution_count": 134,
     "metadata": {},
     "output_type": "execute_result"
    }
   ],
   "source": [
    "df_merged.head()"
   ]
  },
  {
   "cell_type": "code",
   "execution_count": 135,
   "metadata": {
    "collapsed": true
   },
   "outputs": [],
   "source": [
    "#Convert set items into str to search with contains\n",
    "df_merged['terms_tx'] = df_merged['terms'].apply(str)"
   ]
  },
  {
   "cell_type": "code",
   "execution_count": 136,
   "metadata": {
    "collapsed": true
   },
   "outputs": [],
   "source": [
    "#Extract those hospital where 'cancer' was found\n",
    "df_hospitals_with_term_cancer = df_merged[df_merged['terms_tx'].str.contains('cancer')]"
   ]
  },
  {
   "cell_type": "code",
   "execution_count": 137,
   "metadata": {
    "collapsed": false
   },
   "outputs": [
    {
     "data": {
      "text/html": [
       "<div>\n",
       "<style scoped>\n",
       "    .dataframe tbody tr th:only-of-type {\n",
       "        vertical-align: middle;\n",
       "    }\n",
       "\n",
       "    .dataframe tbody tr th {\n",
       "        vertical-align: top;\n",
       "    }\n",
       "\n",
       "    .dataframe thead th {\n",
       "        text-align: right;\n",
       "    }\n",
       "</style>\n",
       "<table border=\"1\" class=\"dataframe\">\n",
       "  <thead>\n",
       "    <tr style=\"text-align: right;\">\n",
       "      <th></th>\n",
       "      <th>url</th>\n",
       "      <th>terms</th>\n",
       "      <th>number_of_terms</th>\n",
       "      <th>NAME</th>\n",
       "      <th>ADDRESS</th>\n",
       "      <th>CITY</th>\n",
       "      <th>STATE</th>\n",
       "      <th>ZIP</th>\n",
       "      <th>POPULATION</th>\n",
       "      <th>COUNTY</th>\n",
       "      <th>...</th>\n",
       "      <th>NAICS_CODE</th>\n",
       "      <th>NAICS_DESC</th>\n",
       "      <th>SOURCE</th>\n",
       "      <th>VAL_DATE</th>\n",
       "      <th>WEBSITE</th>\n",
       "      <th>STATE_ID</th>\n",
       "      <th>ST_FIPS</th>\n",
       "      <th>OWNER</th>\n",
       "      <th>BEDS</th>\n",
       "      <th>terms_tx</th>\n",
       "    </tr>\n",
       "  </thead>\n",
       "  <tbody>\n",
       "    <tr>\n",
       "      <th>0</th>\n",
       "      <td>mercymiami.com</td>\n",
       "      <td>{anesthesiology, maternity, Paul, behavioral, ...</td>\n",
       "      <td>130</td>\n",
       "      <td>Mercy Hospital</td>\n",
       "      <td>3663 S Miami Ave</td>\n",
       "      <td>Miami</td>\n",
       "      <td>FL</td>\n",
       "      <td>33133</td>\n",
       "      <td>473</td>\n",
       "      <td>Miami-Dade</td>\n",
       "      <td>...</td>\n",
       "      <td>622210</td>\n",
       "      <td>General Medical And Surgical Hospitals</td>\n",
       "      <td>http://www.fgdl.org/metadataexplorer/explorer.jsp</td>\n",
       "      <td>2014-02-10T00:00:00.000Z</td>\n",
       "      <td>http://mercymiami.com/</td>\n",
       "      <td>9878</td>\n",
       "      <td>12</td>\n",
       "      <td>Non-profit</td>\n",
       "      <td>473</td>\n",
       "      <td>{'anesthesiology', 'maternity', 'Paul', 'behav...</td>\n",
       "    </tr>\n",
       "    <tr>\n",
       "      <th>2</th>\n",
       "      <td>www.adaircountyhealthsystem.org</td>\n",
       "      <td>{extreme, winter, spring, symptoms, place, han...</td>\n",
       "      <td>129</td>\n",
       "      <td>Adair County Memorial Hospital</td>\n",
       "      <td>Rr #2 Po Box 100</td>\n",
       "      <td>Greenfield</td>\n",
       "      <td>IA</td>\n",
       "      <td>50849</td>\n",
       "      <td>18</td>\n",
       "      <td>Adair</td>\n",
       "      <td>...</td>\n",
       "      <td>622210</td>\n",
       "      <td>General Medical And Surgical Hospitals</td>\n",
       "      <td>ftp://ftp.igsb.uiowa.edu/gis_library/IA_State/...</td>\n",
       "      <td>2014-03-12T00:00:00.000Z</td>\n",
       "      <td>http://www.adaircountyhealthsystem.org</td>\n",
       "      <td>Not Available</td>\n",
       "      <td>19</td>\n",
       "      <td>Government - Local</td>\n",
       "      <td>18</td>\n",
       "      <td>{'extreme', 'winter', 'spring', 'symptoms', 'p...</td>\n",
       "    </tr>\n",
       "    <tr>\n",
       "      <th>3</th>\n",
       "      <td>www.adventisthealth.org</td>\n",
       "      <td>{maternity, spring, large, symptoms, armenia, ...</td>\n",
       "      <td>718</td>\n",
       "      <td>St. Helena Hospital - Clearlake</td>\n",
       "      <td>15630 18Th Ave - Hwy 53</td>\n",
       "      <td>Clearlake</td>\n",
       "      <td>CA</td>\n",
       "      <td>95422</td>\n",
       "      <td>25</td>\n",
       "      <td>Lake</td>\n",
       "      <td>...</td>\n",
       "      <td>622210</td>\n",
       "      <td>General Medical And Surgical Hospitals</td>\n",
       "      <td>http://www.oshpd.ca.gov/HID/Products/Listings....</td>\n",
       "      <td>2014-02-10T00:00:00.000Z</td>\n",
       "      <td>http://www.adventisthealth.org</td>\n",
       "      <td>Not Available</td>\n",
       "      <td>6</td>\n",
       "      <td>Non-profit</td>\n",
       "      <td>25</td>\n",
       "      <td>{'maternity', 'spring', 'large', 'symptoms', '...</td>\n",
       "    </tr>\n",
       "    <tr>\n",
       "      <th>4</th>\n",
       "      <td>www.advocatehealth.com</td>\n",
       "      <td>{maternity, powder, neonatology, symptoms, den...</td>\n",
       "      <td>600</td>\n",
       "      <td>Advocate Condell Medical Center</td>\n",
       "      <td>801 S Milwaukee Ave</td>\n",
       "      <td>Libertyville</td>\n",
       "      <td>IL</td>\n",
       "      <td>60048</td>\n",
       "      <td>279</td>\n",
       "      <td>Lake</td>\n",
       "      <td>...</td>\n",
       "      <td>622210</td>\n",
       "      <td>General Medical And Surgical Hospitals</td>\n",
       "      <td>https://data.illinois.gov/</td>\n",
       "      <td>2014-03-12T00:00:00.000Z</td>\n",
       "      <td>http://www.advocatehealth.com/condell/</td>\n",
       "      <td>140202</td>\n",
       "      <td>17</td>\n",
       "      <td>Non-profit</td>\n",
       "      <td>279</td>\n",
       "      <td>{'maternity', 'powder', 'neonatology', 'sympto...</td>\n",
       "    </tr>\n",
       "    <tr>\n",
       "      <th>6</th>\n",
       "      <td>www.altabatessummit.org</td>\n",
       "      <td>{atrial, gender, anvil, ann, gynecology, bmi, ...</td>\n",
       "      <td>187</td>\n",
       "      <td>Mpi Chemical Dependency Recovery Hospital</td>\n",
       "      <td>3012 Summit Street, 5Th Floor</td>\n",
       "      <td>Oakland</td>\n",
       "      <td>CA</td>\n",
       "      <td>94609</td>\n",
       "      <td>24</td>\n",
       "      <td>Alameda</td>\n",
       "      <td>...</td>\n",
       "      <td>622310</td>\n",
       "      <td>Rehabilitation Hospitals (Except Alcoholism, D...</td>\n",
       "      <td>http://www.oshpd.ca.gov/HID/Products/Listings....</td>\n",
       "      <td>2014-02-10T00:00:00.000Z</td>\n",
       "      <td>http://www.altabatessummit.org/mpi/</td>\n",
       "      <td>Not Available</td>\n",
       "      <td>6</td>\n",
       "      <td>Non-profit</td>\n",
       "      <td>24</td>\n",
       "      <td>{'atrial', 'gender', 'anvil', 'ann', 'gynecolo...</td>\n",
       "    </tr>\n",
       "  </tbody>\n",
       "</table>\n",
       "<p>5 rows × 23 columns</p>\n",
       "</div>"
      ],
      "text/plain": [
       "                               url  \\\n",
       "0                   mercymiami.com   \n",
       "2  www.adaircountyhealthsystem.org   \n",
       "3          www.adventisthealth.org   \n",
       "4           www.advocatehealth.com   \n",
       "6          www.altabatessummit.org   \n",
       "\n",
       "                                               terms  number_of_terms  \\\n",
       "0  {anesthesiology, maternity, Paul, behavioral, ...              130   \n",
       "2  {extreme, winter, spring, symptoms, place, han...              129   \n",
       "3  {maternity, spring, large, symptoms, armenia, ...              718   \n",
       "4  {maternity, powder, neonatology, symptoms, den...              600   \n",
       "6  {atrial, gender, anvil, ann, gynecology, bmi, ...              187   \n",
       "\n",
       "                                        NAME                        ADDRESS  \\\n",
       "0                             Mercy Hospital               3663 S Miami Ave   \n",
       "2             Adair County Memorial Hospital               Rr #2 Po Box 100   \n",
       "3            St. Helena Hospital - Clearlake        15630 18Th Ave - Hwy 53   \n",
       "4            Advocate Condell Medical Center            801 S Milwaukee Ave   \n",
       "6  Mpi Chemical Dependency Recovery Hospital  3012 Summit Street, 5Th Floor   \n",
       "\n",
       "           CITY STATE    ZIP  POPULATION      COUNTY  \\\n",
       "0         Miami    FL  33133         473  Miami-Dade   \n",
       "2    Greenfield    IA  50849          18       Adair   \n",
       "3     Clearlake    CA  95422          25        Lake   \n",
       "4  Libertyville    IL  60048         279        Lake   \n",
       "6       Oakland    CA  94609          24     Alameda   \n",
       "\n",
       "                         ...                          NAICS_CODE  \\\n",
       "0                        ...                              622210   \n",
       "2                        ...                              622210   \n",
       "3                        ...                              622210   \n",
       "4                        ...                              622210   \n",
       "6                        ...                              622310   \n",
       "\n",
       "                                          NAICS_DESC  \\\n",
       "0             General Medical And Surgical Hospitals   \n",
       "2             General Medical And Surgical Hospitals   \n",
       "3             General Medical And Surgical Hospitals   \n",
       "4             General Medical And Surgical Hospitals   \n",
       "6  Rehabilitation Hospitals (Except Alcoholism, D...   \n",
       "\n",
       "                                              SOURCE  \\\n",
       "0  http://www.fgdl.org/metadataexplorer/explorer.jsp   \n",
       "2  ftp://ftp.igsb.uiowa.edu/gis_library/IA_State/...   \n",
       "3  http://www.oshpd.ca.gov/HID/Products/Listings....   \n",
       "4                         https://data.illinois.gov/   \n",
       "6  http://www.oshpd.ca.gov/HID/Products/Listings....   \n",
       "\n",
       "                   VAL_DATE                                 WEBSITE  \\\n",
       "0  2014-02-10T00:00:00.000Z                  http://mercymiami.com/   \n",
       "2  2014-03-12T00:00:00.000Z  http://www.adaircountyhealthsystem.org   \n",
       "3  2014-02-10T00:00:00.000Z          http://www.adventisthealth.org   \n",
       "4  2014-03-12T00:00:00.000Z  http://www.advocatehealth.com/condell/   \n",
       "6  2014-02-10T00:00:00.000Z     http://www.altabatessummit.org/mpi/   \n",
       "\n",
       "        STATE_ID ST_FIPS               OWNER BEDS  \\\n",
       "0           9878      12          Non-profit  473   \n",
       "2  Not Available      19  Government - Local   18   \n",
       "3  Not Available       6          Non-profit   25   \n",
       "4         140202      17          Non-profit  279   \n",
       "6  Not Available       6          Non-profit   24   \n",
       "\n",
       "                                            terms_tx  \n",
       "0  {'anesthesiology', 'maternity', 'Paul', 'behav...  \n",
       "2  {'extreme', 'winter', 'spring', 'symptoms', 'p...  \n",
       "3  {'maternity', 'spring', 'large', 'symptoms', '...  \n",
       "4  {'maternity', 'powder', 'neonatology', 'sympto...  \n",
       "6  {'atrial', 'gender', 'anvil', 'ann', 'gynecolo...  \n",
       "\n",
       "[5 rows x 23 columns]"
      ]
     },
     "execution_count": 137,
     "metadata": {},
     "output_type": "execute_result"
    }
   ],
   "source": [
    "df_hospitals_with_term_cancer.head()"
   ]
  },
  {
   "cell_type": "code",
   "execution_count": 143,
   "metadata": {
    "collapsed": false
   },
   "outputs": [
    {
     "data": {
      "text/plain": [
       "(123, 23)"
      ]
     },
     "execution_count": 143,
     "metadata": {},
     "output_type": "execute_result"
    }
   ],
   "source": [
    "df_hospitals_with_term_cancer.shape"
   ]
  },
  {
   "cell_type": "code",
   "execution_count": 138,
   "metadata": {
    "collapsed": false
   },
   "outputs": [
    {
     "data": {
      "text/html": [
       "<div>\n",
       "<style scoped>\n",
       "    .dataframe tbody tr th:only-of-type {\n",
       "        vertical-align: middle;\n",
       "    }\n",
       "\n",
       "    .dataframe tbody tr th {\n",
       "        vertical-align: top;\n",
       "    }\n",
       "\n",
       "    .dataframe thead th {\n",
       "        text-align: right;\n",
       "    }\n",
       "</style>\n",
       "<table border=\"1\" class=\"dataframe\">\n",
       "  <thead>\n",
       "    <tr style=\"text-align: right;\">\n",
       "      <th></th>\n",
       "      <th>CITY</th>\n",
       "      <th>LATITUDE</th>\n",
       "      <th>LONGITUDE</th>\n",
       "    </tr>\n",
       "  </thead>\n",
       "  <tbody>\n",
       "    <tr>\n",
       "      <th>0</th>\n",
       "      <td>Miami</td>\n",
       "      <td>25.7402</td>\n",
       "      <td>-80.2144</td>\n",
       "    </tr>\n",
       "    <tr>\n",
       "      <th>2</th>\n",
       "      <td>Greenfield</td>\n",
       "      <td>41.3038</td>\n",
       "      <td>-94.4520</td>\n",
       "    </tr>\n",
       "    <tr>\n",
       "      <th>3</th>\n",
       "      <td>Clearlake</td>\n",
       "      <td>38.9356</td>\n",
       "      <td>-122.6200</td>\n",
       "    </tr>\n",
       "    <tr>\n",
       "      <th>4</th>\n",
       "      <td>Libertyville</td>\n",
       "      <td>42.2742</td>\n",
       "      <td>-87.9577</td>\n",
       "    </tr>\n",
       "    <tr>\n",
       "      <th>6</th>\n",
       "      <td>Oakland</td>\n",
       "      <td>37.8193</td>\n",
       "      <td>-122.2640</td>\n",
       "    </tr>\n",
       "    <tr>\n",
       "      <th>9</th>\n",
       "      <td>Little Rock</td>\n",
       "      <td>34.7426</td>\n",
       "      <td>-92.2924</td>\n",
       "    </tr>\n",
       "    <tr>\n",
       "      <th>13</th>\n",
       "      <td>Jacksonville Beach</td>\n",
       "      <td>30.2734</td>\n",
       "      <td>-81.3983</td>\n",
       "    </tr>\n",
       "    <tr>\n",
       "      <th>14</th>\n",
       "      <td>Primghar</td>\n",
       "      <td>43.0888</td>\n",
       "      <td>-95.6237</td>\n",
       "    </tr>\n",
       "    <tr>\n",
       "      <th>16</th>\n",
       "      <td>Milford</td>\n",
       "      <td>38.9070</td>\n",
       "      <td>-75.4329</td>\n",
       "    </tr>\n",
       "    <tr>\n",
       "      <th>17</th>\n",
       "      <td>Montebello</td>\n",
       "      <td>34.0146</td>\n",
       "      <td>-118.1000</td>\n",
       "    </tr>\n",
       "    <tr>\n",
       "      <th>21</th>\n",
       "      <td>Bridgton</td>\n",
       "      <td>44.0461</td>\n",
       "      <td>-70.7137</td>\n",
       "    </tr>\n",
       "    <tr>\n",
       "      <th>22</th>\n",
       "      <td>Boston</td>\n",
       "      <td>42.3359</td>\n",
       "      <td>-71.1068</td>\n",
       "    </tr>\n",
       "    <tr>\n",
       "      <th>23</th>\n",
       "      <td>Des Moines</td>\n",
       "      <td>41.6166</td>\n",
       "      <td>-93.6418</td>\n",
       "    </tr>\n",
       "    <tr>\n",
       "      <th>24</th>\n",
       "      <td>Coral Springs</td>\n",
       "      <td>26.2686</td>\n",
       "      <td>-80.2557</td>\n",
       "    </tr>\n",
       "    <tr>\n",
       "      <th>31</th>\n",
       "      <td>Los Angeles</td>\n",
       "      <td>34.0763</td>\n",
       "      <td>-118.3810</td>\n",
       "    </tr>\n",
       "    <tr>\n",
       "      <th>32</th>\n",
       "      <td>Sterling</td>\n",
       "      <td>41.8022</td>\n",
       "      <td>-89.6967</td>\n",
       "    </tr>\n",
       "    <tr>\n",
       "      <th>33</th>\n",
       "      <td>Dallas</td>\n",
       "      <td>32.8093</td>\n",
       "      <td>-96.8374</td>\n",
       "    </tr>\n",
       "    <tr>\n",
       "      <th>34</th>\n",
       "      <td>Kansas City</td>\n",
       "      <td>39.0841</td>\n",
       "      <td>-94.5773</td>\n",
       "    </tr>\n",
       "    <tr>\n",
       "      <th>35</th>\n",
       "      <td>Minneapolis</td>\n",
       "      <td>44.9567</td>\n",
       "      <td>-93.2620</td>\n",
       "    </tr>\n",
       "    <tr>\n",
       "      <th>36</th>\n",
       "      <td>Los Angeles</td>\n",
       "      <td>34.0976</td>\n",
       "      <td>-118.2910</td>\n",
       "    </tr>\n",
       "    <tr>\n",
       "      <th>37</th>\n",
       "      <td>Monterey</td>\n",
       "      <td>36.5789</td>\n",
       "      <td>-121.9130</td>\n",
       "    </tr>\n",
       "    <tr>\n",
       "      <th>38</th>\n",
       "      <td>Pittsburgh</td>\n",
       "      <td>40.4665</td>\n",
       "      <td>-79.9530</td>\n",
       "    </tr>\n",
       "    <tr>\n",
       "      <th>39</th>\n",
       "      <td>Wilmington</td>\n",
       "      <td>39.7515</td>\n",
       "      <td>-75.5497</td>\n",
       "    </tr>\n",
       "    <tr>\n",
       "      <th>40</th>\n",
       "      <td>Neenah</td>\n",
       "      <td>44.1871</td>\n",
       "      <td>-88.4544</td>\n",
       "    </tr>\n",
       "    <tr>\n",
       "      <th>41</th>\n",
       "      <td>Duarte</td>\n",
       "      <td>34.1298</td>\n",
       "      <td>-117.9710</td>\n",
       "    </tr>\n",
       "    <tr>\n",
       "      <th>43</th>\n",
       "      <td>Winchester</td>\n",
       "      <td>38.0010</td>\n",
       "      <td>-84.1955</td>\n",
       "    </tr>\n",
       "    <tr>\n",
       "      <th>45</th>\n",
       "      <td>Lewiston</td>\n",
       "      <td>44.1017</td>\n",
       "      <td>-70.2145</td>\n",
       "    </tr>\n",
       "    <tr>\n",
       "      <th>46</th>\n",
       "      <td>Clovis</td>\n",
       "      <td>36.8391</td>\n",
       "      <td>-119.6600</td>\n",
       "    </tr>\n",
       "    <tr>\n",
       "      <th>49</th>\n",
       "      <td>San Francisco</td>\n",
       "      <td>37.7867</td>\n",
       "      <td>-122.4550</td>\n",
       "    </tr>\n",
       "    <tr>\n",
       "      <th>51</th>\n",
       "      <td>Columbus</td>\n",
       "      <td>39.2170</td>\n",
       "      <td>-85.8955</td>\n",
       "    </tr>\n",
       "    <tr>\n",
       "      <th>...</th>\n",
       "      <td>...</td>\n",
       "      <td>...</td>\n",
       "      <td>...</td>\n",
       "    </tr>\n",
       "    <tr>\n",
       "      <th>152</th>\n",
       "      <td>Fresno</td>\n",
       "      <td>36.8351</td>\n",
       "      <td>-119.7660</td>\n",
       "    </tr>\n",
       "    <tr>\n",
       "      <th>153</th>\n",
       "      <td>San Ramon</td>\n",
       "      <td>37.7759</td>\n",
       "      <td>-121.9580</td>\n",
       "    </tr>\n",
       "    <tr>\n",
       "      <th>154</th>\n",
       "      <td>Seymour</td>\n",
       "      <td>38.9557</td>\n",
       "      <td>-85.8918</td>\n",
       "    </tr>\n",
       "    <tr>\n",
       "      <th>157</th>\n",
       "      <td>San Luis Obispo</td>\n",
       "      <td>35.2918</td>\n",
       "      <td>-120.6660</td>\n",
       "    </tr>\n",
       "    <tr>\n",
       "      <th>158</th>\n",
       "      <td>New Lenox</td>\n",
       "      <td>41.5447</td>\n",
       "      <td>-87.9834</td>\n",
       "    </tr>\n",
       "    <tr>\n",
       "      <th>159</th>\n",
       "      <td>Chicago</td>\n",
       "      <td>41.8608</td>\n",
       "      <td>-87.6943</td>\n",
       "    </tr>\n",
       "    <tr>\n",
       "      <th>160</th>\n",
       "      <td>Lewiston</td>\n",
       "      <td>46.4164</td>\n",
       "      <td>-117.0240</td>\n",
       "    </tr>\n",
       "    <tr>\n",
       "      <th>161</th>\n",
       "      <td>Sarasota</td>\n",
       "      <td>27.3179</td>\n",
       "      <td>-82.5311</td>\n",
       "    </tr>\n",
       "    <tr>\n",
       "      <th>163</th>\n",
       "      <td>Sparta</td>\n",
       "      <td>38.1241</td>\n",
       "      <td>-89.6915</td>\n",
       "    </tr>\n",
       "    <tr>\n",
       "      <th>164</th>\n",
       "      <td>Lakewood</td>\n",
       "      <td>39.7162</td>\n",
       "      <td>-105.1290</td>\n",
       "    </tr>\n",
       "    <tr>\n",
       "      <th>168</th>\n",
       "      <td>Topeka</td>\n",
       "      <td>39.0566</td>\n",
       "      <td>-95.6962</td>\n",
       "    </tr>\n",
       "    <tr>\n",
       "      <th>171</th>\n",
       "      <td>St. Louis</td>\n",
       "      <td>38.6389</td>\n",
       "      <td>-90.2642</td>\n",
       "    </tr>\n",
       "    <tr>\n",
       "      <th>174</th>\n",
       "      <td>Lewiston</td>\n",
       "      <td>44.1018</td>\n",
       "      <td>-70.1998</td>\n",
       "    </tr>\n",
       "    <tr>\n",
       "      <th>175</th>\n",
       "      <td>Canon City</td>\n",
       "      <td>38.4553</td>\n",
       "      <td>-105.2310</td>\n",
       "    </tr>\n",
       "    <tr>\n",
       "      <th>176</th>\n",
       "      <td>Topeka</td>\n",
       "      <td>39.0508</td>\n",
       "      <td>-95.6965</td>\n",
       "    </tr>\n",
       "    <tr>\n",
       "      <th>177</th>\n",
       "      <td>Bridgeport</td>\n",
       "      <td>41.2010</td>\n",
       "      <td>-73.2017</td>\n",
       "    </tr>\n",
       "    <tr>\n",
       "      <th>179</th>\n",
       "      <td>Sonoma</td>\n",
       "      <td>38.2881</td>\n",
       "      <td>-122.4650</td>\n",
       "    </tr>\n",
       "    <tr>\n",
       "      <th>180</th>\n",
       "      <td>Presque Isle</td>\n",
       "      <td>46.6751</td>\n",
       "      <td>-67.9984</td>\n",
       "    </tr>\n",
       "    <tr>\n",
       "      <th>182</th>\n",
       "      <td>Tampa</td>\n",
       "      <td>27.9380</td>\n",
       "      <td>-82.4592</td>\n",
       "    </tr>\n",
       "    <tr>\n",
       "      <th>183</th>\n",
       "      <td>Chicago</td>\n",
       "      <td>41.9552</td>\n",
       "      <td>-87.6516</td>\n",
       "    </tr>\n",
       "    <tr>\n",
       "      <th>185</th>\n",
       "      <td>Templeton</td>\n",
       "      <td>35.5552</td>\n",
       "      <td>-120.7200</td>\n",
       "    </tr>\n",
       "    <tr>\n",
       "      <th>186</th>\n",
       "      <td>San Francisco</td>\n",
       "      <td>37.7849</td>\n",
       "      <td>-122.4390</td>\n",
       "    </tr>\n",
       "    <tr>\n",
       "      <th>187</th>\n",
       "      <td>Mobile</td>\n",
       "      <td>30.7071</td>\n",
       "      <td>-88.0983</td>\n",
       "    </tr>\n",
       "    <tr>\n",
       "      <th>191</th>\n",
       "      <td>Wellington</td>\n",
       "      <td>26.6517</td>\n",
       "      <td>-80.2051</td>\n",
       "    </tr>\n",
       "    <tr>\n",
       "      <th>192</th>\n",
       "      <td>Boca Raton</td>\n",
       "      <td>26.3562</td>\n",
       "      <td>-80.1992</td>\n",
       "    </tr>\n",
       "    <tr>\n",
       "      <th>194</th>\n",
       "      <td>Mountain View</td>\n",
       "      <td>35.8566</td>\n",
       "      <td>-92.0829</td>\n",
       "    </tr>\n",
       "    <tr>\n",
       "      <th>195</th>\n",
       "      <td>Willimantic</td>\n",
       "      <td>41.7173</td>\n",
       "      <td>-72.2264</td>\n",
       "    </tr>\n",
       "    <tr>\n",
       "      <th>196</th>\n",
       "      <td>Baton Rouge</td>\n",
       "      <td>30.4437</td>\n",
       "      <td>-91.0906</td>\n",
       "    </tr>\n",
       "    <tr>\n",
       "      <th>198</th>\n",
       "      <td>New Haven</td>\n",
       "      <td>41.3100</td>\n",
       "      <td>-72.9425</td>\n",
       "    </tr>\n",
       "    <tr>\n",
       "      <th>199</th>\n",
       "      <td>Yuma</td>\n",
       "      <td>32.6827</td>\n",
       "      <td>-114.6350</td>\n",
       "    </tr>\n",
       "  </tbody>\n",
       "</table>\n",
       "<p>123 rows × 3 columns</p>\n",
       "</div>"
      ],
      "text/plain": [
       "                   CITY  LATITUDE  LONGITUDE\n",
       "0                 Miami   25.7402   -80.2144\n",
       "2            Greenfield   41.3038   -94.4520\n",
       "3             Clearlake   38.9356  -122.6200\n",
       "4          Libertyville   42.2742   -87.9577\n",
       "6               Oakland   37.8193  -122.2640\n",
       "9           Little Rock   34.7426   -92.2924\n",
       "13   Jacksonville Beach   30.2734   -81.3983\n",
       "14             Primghar   43.0888   -95.6237\n",
       "16              Milford   38.9070   -75.4329\n",
       "17           Montebello   34.0146  -118.1000\n",
       "21             Bridgton   44.0461   -70.7137\n",
       "22               Boston   42.3359   -71.1068\n",
       "23           Des Moines   41.6166   -93.6418\n",
       "24        Coral Springs   26.2686   -80.2557\n",
       "31          Los Angeles   34.0763  -118.3810\n",
       "32             Sterling   41.8022   -89.6967\n",
       "33               Dallas   32.8093   -96.8374\n",
       "34          Kansas City   39.0841   -94.5773\n",
       "35          Minneapolis   44.9567   -93.2620\n",
       "36          Los Angeles   34.0976  -118.2910\n",
       "37             Monterey   36.5789  -121.9130\n",
       "38           Pittsburgh   40.4665   -79.9530\n",
       "39           Wilmington   39.7515   -75.5497\n",
       "40               Neenah   44.1871   -88.4544\n",
       "41               Duarte   34.1298  -117.9710\n",
       "43           Winchester   38.0010   -84.1955\n",
       "45             Lewiston   44.1017   -70.2145\n",
       "46               Clovis   36.8391  -119.6600\n",
       "49        San Francisco   37.7867  -122.4550\n",
       "51             Columbus   39.2170   -85.8955\n",
       "..                  ...       ...        ...\n",
       "152              Fresno   36.8351  -119.7660\n",
       "153           San Ramon   37.7759  -121.9580\n",
       "154             Seymour   38.9557   -85.8918\n",
       "157     San Luis Obispo   35.2918  -120.6660\n",
       "158           New Lenox   41.5447   -87.9834\n",
       "159             Chicago   41.8608   -87.6943\n",
       "160            Lewiston   46.4164  -117.0240\n",
       "161            Sarasota   27.3179   -82.5311\n",
       "163              Sparta   38.1241   -89.6915\n",
       "164            Lakewood   39.7162  -105.1290\n",
       "168              Topeka   39.0566   -95.6962\n",
       "171           St. Louis   38.6389   -90.2642\n",
       "174            Lewiston   44.1018   -70.1998\n",
       "175          Canon City   38.4553  -105.2310\n",
       "176              Topeka   39.0508   -95.6965\n",
       "177          Bridgeport   41.2010   -73.2017\n",
       "179              Sonoma   38.2881  -122.4650\n",
       "180        Presque Isle   46.6751   -67.9984\n",
       "182               Tampa   27.9380   -82.4592\n",
       "183             Chicago   41.9552   -87.6516\n",
       "185           Templeton   35.5552  -120.7200\n",
       "186       San Francisco   37.7849  -122.4390\n",
       "187              Mobile   30.7071   -88.0983\n",
       "191          Wellington   26.6517   -80.2051\n",
       "192          Boca Raton   26.3562   -80.1992\n",
       "194       Mountain View   35.8566   -92.0829\n",
       "195         Willimantic   41.7173   -72.2264\n",
       "196         Baton Rouge   30.4437   -91.0906\n",
       "198           New Haven   41.3100   -72.9425\n",
       "199                Yuma   32.6827  -114.6350\n",
       "\n",
       "[123 rows x 3 columns]"
      ]
     },
     "execution_count": 138,
     "metadata": {},
     "output_type": "execute_result"
    }
   ],
   "source": [
    "df_hospitals_with_term_cancer[['CITY','LATITUDE','LONGITUDE']]"
   ]
  },
  {
   "cell_type": "code",
   "execution_count": 139,
   "metadata": {
    "collapsed": true
   },
   "outputs": [],
   "source": [
    "#Get longitude and latitude of cities which hospital that were\n",
    "#found to have term\n",
    "cities_location = []\n",
    "for index, row in df_hospitals_with_term_cancer.iterrows():\n",
    "    cities_location.append((row['LONGITUDE'], row['LATITUDE'],row['CITY']))"
   ]
  },
  {
   "cell_type": "code",
   "execution_count": 140,
   "metadata": {
    "collapsed": true
   },
   "outputs": [],
   "source": [
    "#Create list of hospitals in cities that match\n",
    "#the search record \"Cancer\" \n",
    "#Use this to determine the size of the marker on map\n",
    "cities_counter = Counter()\n",
    "\n",
    "for city in df_hospitals_with_term_cancer['CITY']:\n",
    "    cities_counter.update([city])\n"
   ]
  },
  {
   "cell_type": "code",
   "execution_count": 141,
   "metadata": {
    "collapsed": false
   },
   "outputs": [
    {
     "data": {
      "text/plain": [
       "6"
      ]
     },
     "execution_count": 141,
     "metadata": {},
     "output_type": "execute_result"
    }
   ],
   "source": [
    "cities_counter['Chicago']"
   ]
  },
  {
   "cell_type": "code",
   "execution_count": 142,
   "metadata": {
    "collapsed": false
   },
   "outputs": [
    {
     "name": "stderr",
     "output_type": "stream",
     "text": [
      "/Users/agamino/anaconda/envs/py3/lib/python3.6/site-packages/mpl_toolkits/basemap/__init__.py:3260: MatplotlibDeprecationWarning: The ishold function was deprecated in version 2.0.\n",
      "  b = ax.ishold()\n",
      "/Users/agamino/anaconda/envs/py3/lib/python3.6/site-packages/mpl_toolkits/basemap/__init__.py:3269: MatplotlibDeprecationWarning: axes.hold is deprecated.\n",
      "    See the API Changes document (http://matplotlib.org/api/api_changes.html)\n",
      "    for more details.\n",
      "  ax.hold(b)\n"
     ]
    },
    {
     "data": {
      "image/png": "[encoded data removed]",
      "text/plain": [
       "<matplotlib.figure.Figure at 0x1a417b7470>"
      ]
     },
     "metadata": {},
     "output_type": "display_data"
    },
    {
     "data": {
      "text/plain": [
       "<matplotlib.figure.Figure at 0x1a2ddbb748>"
      ]
     },
     "metadata": {},
     "output_type": "display_data"
    }
   ],
   "source": [
    "#Draw map of cities with hospitals where term 'cancer' was found\n",
    "scale = 5\n",
    "\n",
    "map = Basemap(llcrnrlon=-119,llcrnrlat=22,urcrnrlon=-64,urcrnrlat=49,\n",
    "        projection='lcc',lat_1=32,lat_2=45,lon_0=-95)\n",
    "\n",
    "# load the shapefile of the US\n",
    "map.readshapefile('st99_d00', name='states', drawbounds=True)\n",
    "\n",
    "# Get the location of each city and plot it\n",
    "geolocator = Nominatim()\n",
    "\n",
    "count = 1\n",
    "for (longitude,latitude,city) in cities_location:\n",
    "    x, y = map(longitude, latitude)\n",
    "    #Get number of hospitals in that city \n",
    "    count = cities_counter[city]\n",
    "    map.plot(x,y,marker='o',color='Green',markersize=int(math.sqrt(count))*scale)\n",
    "plt.show()\n",
    "plt.savefig('cities_with_cancer_facilities_from_url.png')"
   ]
  },
  {
   "cell_type": "code",
   "execution_count": null,
   "metadata": {
    "collapsed": true
   },
   "outputs": [],
   "source": []
  }
 ],
 "metadata": {
  "anaconda-cloud": {},
  "kernelspec": {
   "display_name": "py3",
   "language": "python",
   "name": "py3"
  },
  "language_info": {
   "codemirror_mode": {
    "name": "ipython",
    "version": 3
   },
   "file_extension": ".py",
   "mimetype": "text/x-python",
   "name": "python",
   "nbconvert_exporter": "python",
   "pygments_lexer": "ipython3",
   "version": "3.6.0"
  }
 },
 "nbformat": 4,
 "nbformat_minor": 2
}
