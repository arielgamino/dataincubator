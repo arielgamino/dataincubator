{
 "cells": [
  {
   "cell_type": "markdown",
   "metadata": {},
   "source": [
    "## Data Incubator Challenge - Plots\n",
    "\n",
    "The Following plots represent exploratory data analysis of the project I am proposing.\n",
    "The project relies on crawling and scraping information from multiple public sources\n",
    "including hospital websites, medical sites, and other public information about conditions\n",
    "and where they are treated.\n",
    "\n",
    "There are two plots in this notebook, the first one shows the medical terms found on urls of multiple hospital websites. These can be used to track those pages that contain information on relevant medical terms.  The second one indicates all hospitals where the term 'cancer' was found in ther sites.\n",
    "\n",
    "\n",
    "   "
   ]
  },
  {
   "cell_type": "markdown",
   "metadata": {},
   "source": [
    "### Medical terms found in urls of hospital websites in California\n",
    "![Word cloud of terms found on hospital sites in California](california_word_cloud.png \"Wordcloud of medical terms in hospital websites in California\")\n"
   ]
  },
  {
   "cell_type": "markdown",
   "metadata": {},
   "source": [
    "### Location of hospitals with the term 'Cancer' found on their websites\n",
    "![Location of hospitals with the term 'Cancer' found on their websites](cities_with_cancer_facilities_v1.png \"Location of hospitals with the term 'Cancer' found on their websites\")\n",
    "\n"
   ]
  }
 ],
 "metadata": {
  "anaconda-cloud": {},
  "kernelspec": {
   "display_name": "py3",
   "language": "python",
   "name": "py3"
  },
  "language_info": {
   "codemirror_mode": {
    "name": "ipython",
    "version": 3
   },
   "file_extension": ".py",
   "mimetype": "text/x-python",
   "name": "python",
   "nbconvert_exporter": "python",
   "pygments_lexer": "ipython3",
   "version": "3.6.0"
  }
 },
 "nbformat": 4,
 "nbformat_minor": 2
}
